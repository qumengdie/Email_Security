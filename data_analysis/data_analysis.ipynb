{
 "cells": [
  {
   "cell_type": "code",
   "execution_count": 1,
   "id": "652b1614",
   "metadata": {},
   "outputs": [],
   "source": [
    "%matplotlib inline\n",
    "from pathlib import Path\n",
    "import pandas as pd\n",
    "import matplotlib.pyplot as plt\n",
    "import seaborn as sns"
   ]
  },
  {
   "cell_type": "code",
   "execution_count": 2,
   "id": "62798b99",
   "metadata": {},
   "outputs": [
    {
     "data": {
      "text/html": [
       "<div>\n",
       "<style scoped>\n",
       "    .dataframe tbody tr th:only-of-type {\n",
       "        vertical-align: middle;\n",
       "    }\n",
       "\n",
       "    .dataframe tbody tr th {\n",
       "        vertical-align: top;\n",
       "    }\n",
       "\n",
       "    .dataframe thead th {\n",
       "        text-align: right;\n",
       "    }\n",
       "</style>\n",
       "<table border=\"1\" class=\"dataframe\">\n",
       "  <thead>\n",
       "    <tr style=\"text-align: right;\">\n",
       "      <th></th>\n",
       "      <th>Rank</th>\n",
       "      <th>University Name</th>\n",
       "      <th>Domain</th>\n",
       "      <th>MX</th>\n",
       "      <th>SPF</th>\n",
       "      <th>DKIM</th>\n",
       "      <th>DMARC</th>\n",
       "    </tr>\n",
       "  </thead>\n",
       "  <tbody>\n",
       "    <tr>\n",
       "      <th>0</th>\n",
       "      <td>1</td>\n",
       "      <td>Tsinghua University</td>\n",
       "      <td>tsinghua.edu.cn</td>\n",
       "      <td>[&lt;DNS IN MX rdata: 10 mta0.tsinghua.edu.cn.&gt;]</td>\n",
       "      <td>True</td>\n",
       "      <td>True</td>\n",
       "      <td>True</td>\n",
       "    </tr>\n",
       "    <tr>\n",
       "      <th>1</th>\n",
       "      <td>2</td>\n",
       "      <td>Peking University</td>\n",
       "      <td>pku.edu.cn</td>\n",
       "      <td>[&lt;DNS IN MX rdata: 0 mx1.pku.edu.cn.&gt;]</td>\n",
       "      <td>True</td>\n",
       "      <td>True</td>\n",
       "      <td>True</td>\n",
       "    </tr>\n",
       "    <tr>\n",
       "      <th>2</th>\n",
       "      <td>3</td>\n",
       "      <td>Zhejiang University</td>\n",
       "      <td>zju.edu.cn</td>\n",
       "      <td>[&lt;DNS IN MX rdata: 10 mail.zju.edu.cn.&gt;]</td>\n",
       "      <td>True</td>\n",
       "      <td>False</td>\n",
       "      <td>False</td>\n",
       "    </tr>\n",
       "    <tr>\n",
       "      <th>3</th>\n",
       "      <td>4</td>\n",
       "      <td>Shanghai Jiao Tong University</td>\n",
       "      <td>sjtu.edu.cn</td>\n",
       "      <td>[&lt;DNS IN MX rdata: 20 mx03.sjtu.edu.cn.&gt;]</td>\n",
       "      <td>True</td>\n",
       "      <td>False</td>\n",
       "      <td>False</td>\n",
       "    </tr>\n",
       "    <tr>\n",
       "      <th>4</th>\n",
       "      <td>5</td>\n",
       "      <td>Fudan University</td>\n",
       "      <td>fudan.edu.cn</td>\n",
       "      <td>[&lt;DNS IN MX rdata: 1 mx-fudan-edu-cn.icoremail...</td>\n",
       "      <td>True</td>\n",
       "      <td>True</td>\n",
       "      <td>True</td>\n",
       "    </tr>\n",
       "  </tbody>\n",
       "</table>\n",
       "</div>"
      ],
      "text/plain": [
       "   Rank                University Name           Domain  \\\n",
       "0     1            Tsinghua University  tsinghua.edu.cn   \n",
       "1     2              Peking University       pku.edu.cn   \n",
       "2     3            Zhejiang University       zju.edu.cn   \n",
       "3     4  Shanghai Jiao Tong University      sjtu.edu.cn   \n",
       "4     5               Fudan University     fudan.edu.cn   \n",
       "\n",
       "                                                  MX   SPF   DKIM  DMARC  \n",
       "0      [<DNS IN MX rdata: 10 mta0.tsinghua.edu.cn.>]  True   True   True  \n",
       "1             [<DNS IN MX rdata: 0 mx1.pku.edu.cn.>]  True   True   True  \n",
       "2           [<DNS IN MX rdata: 10 mail.zju.edu.cn.>]  True  False  False  \n",
       "3          [<DNS IN MX rdata: 20 mx03.sjtu.edu.cn.>]  True  False  False  \n",
       "4  [<DNS IN MX rdata: 1 mx-fudan-edu-cn.icoremail...  True   True   True  "
      ]
     },
     "execution_count": 2,
     "metadata": {},
     "output_type": "execute_result"
    }
   ],
   "source": [
    "df = pd.read_csv(\"final-result.csv\")\n",
    "df.head()"
   ]
  },
  {
   "cell_type": "code",
   "execution_count": 3,
   "id": "1f4bb3fd",
   "metadata": {},
   "outputs": [
    {
     "data": {
      "text/plain": [
       "939"
      ]
     },
     "execution_count": 3,
     "metadata": {},
     "output_type": "execute_result"
    }
   ],
   "source": [
    "len(df)"
   ]
  },
  {
   "cell_type": "code",
   "execution_count": 5,
   "id": "f2cf8326",
   "metadata": {},
   "outputs": [
    {
     "data": {
      "text/plain": [
       "SPF\n",
       "True     660\n",
       "False    279\n",
       "dtype: int64"
      ]
     },
     "execution_count": 5,
     "metadata": {},
     "output_type": "execute_result"
    },
    {
     "data": {
      "image/png": "[encoded data removed]",
      "text/plain": [
       "<Figure size 432x288 with 1 Axes>"
      ]
     },
     "metadata": {
      "needs_background": "light"
     },
     "output_type": "display_data"
    }
   ],
   "source": [
    "sns.countplot(data=df, x=\"SPF\")\n",
    "plt.title(\"Sender Policy Framework\")\n",
    "df.value_counts(\"SPF\")"
   ]
  },
  {
   "cell_type": "code",
   "execution_count": 6,
   "id": "a817c0c0",
   "metadata": {},
   "outputs": [
    {
     "data": {
      "text/plain": [
       "DMARC\n",
       "False    672\n",
       "True     267\n",
       "dtype: int64"
      ]
     },
     "execution_count": 6,
     "metadata": {},
     "output_type": "execute_result"
    },
    {
     "data": {
      "image/png": "[encoded data removed]",
      "text/plain": [
       "<Figure size 432x288 with 1 Axes>"
      ]
     },
     "metadata": {
      "needs_background": "light"
     },
     "output_type": "display_data"
    }
   ],
   "source": [
    "sns.countplot(data=df, x=\"DMARC\")\n",
    "plt.title(\"DMARC\")\n",
    "df.value_counts(\"DMARC\")"
   ]
  },
  {
   "cell_type": "code",
   "execution_count": 7,
   "id": "bf681ea5",
   "metadata": {},
   "outputs": [
    {
     "data": {
      "text/plain": [
       "DKIM\n",
       "False    922\n",
       "True      17\n",
       "dtype: int64"
      ]
     },
     "execution_count": 7,
     "metadata": {},
     "output_type": "execute_result"
    },
    {
     "data": {
      "image/png": "[encoded data removed]",
      "text/plain": [
       "<Figure size 432x288 with 1 Axes>"
      ]
     },
     "metadata": {
      "needs_background": "light"
     },
     "output_type": "display_data"
    }
   ],
   "source": [
    "sns.countplot(data=df, x=\"DKIM\")\n",
    "plt.title(\"DKIM\")\n",
    "df.value_counts(\"DKIM\")"
   ]
  },
  {
   "cell_type": "code",
   "execution_count": 9,
   "id": "d7fb2c23",
   "metadata": {},
   "outputs": [],
   "source": [
    "def check_auth(row):\n",
    "  if row[\"SPF\"] and row[\"DMARC\"]:\n",
    "    return \"both\"\n",
    "  elif row[\"SPF\"]:\n",
    "    return \"SPF\"\n",
    "  elif row[\"DMARC\"]:\n",
    "    return \"DMARC\"\n",
    "  else:\n",
    "    return \"Neither\"\n",
    "  \n",
    "df[\"auth\"] = df.apply(lambda x: check_auth(x), axis=1)"
   ]
  },
  {
   "cell_type": "code",
   "execution_count": 10,
   "id": "4114ea19",
   "metadata": {},
   "outputs": [
    {
     "data": {
      "text/html": [
       "<div>\n",
       "<style scoped>\n",
       "    .dataframe tbody tr th:only-of-type {\n",
       "        vertical-align: middle;\n",
       "    }\n",
       "\n",
       "    .dataframe tbody tr th {\n",
       "        vertical-align: top;\n",
       "    }\n",
       "\n",
       "    .dataframe thead th {\n",
       "        text-align: right;\n",
       "    }\n",
       "</style>\n",
       "<table border=\"1\" class=\"dataframe\">\n",
       "  <thead>\n",
       "    <tr style=\"text-align: right;\">\n",
       "      <th></th>\n",
       "      <th>Rank</th>\n",
       "      <th>University Name</th>\n",
       "      <th>Domain</th>\n",
       "      <th>MX</th>\n",
       "      <th>SPF</th>\n",
       "      <th>DKIM</th>\n",
       "      <th>DMARC</th>\n",
       "      <th>auth</th>\n",
       "    </tr>\n",
       "  </thead>\n",
       "  <tbody>\n",
       "    <tr>\n",
       "      <th>0</th>\n",
       "      <td>1</td>\n",
       "      <td>Tsinghua University</td>\n",
       "      <td>tsinghua.edu.cn</td>\n",
       "      <td>[&lt;DNS IN MX rdata: 10 mta0.tsinghua.edu.cn.&gt;]</td>\n",
       "      <td>True</td>\n",
       "      <td>True</td>\n",
       "      <td>True</td>\n",
       "      <td>both</td>\n",
       "    </tr>\n",
       "    <tr>\n",
       "      <th>1</th>\n",
       "      <td>2</td>\n",
       "      <td>Peking University</td>\n",
       "      <td>pku.edu.cn</td>\n",
       "      <td>[&lt;DNS IN MX rdata: 0 mx1.pku.edu.cn.&gt;]</td>\n",
       "      <td>True</td>\n",
       "      <td>True</td>\n",
       "      <td>True</td>\n",
       "      <td>both</td>\n",
       "    </tr>\n",
       "    <tr>\n",
       "      <th>2</th>\n",
       "      <td>3</td>\n",
       "      <td>Zhejiang University</td>\n",
       "      <td>zju.edu.cn</td>\n",
       "      <td>[&lt;DNS IN MX rdata: 10 mail.zju.edu.cn.&gt;]</td>\n",
       "      <td>True</td>\n",
       "      <td>False</td>\n",
       "      <td>False</td>\n",
       "      <td>SPF</td>\n",
       "    </tr>\n",
       "    <tr>\n",
       "      <th>3</th>\n",
       "      <td>4</td>\n",
       "      <td>Shanghai Jiao Tong University</td>\n",
       "      <td>sjtu.edu.cn</td>\n",
       "      <td>[&lt;DNS IN MX rdata: 20 mx03.sjtu.edu.cn.&gt;]</td>\n",
       "      <td>True</td>\n",
       "      <td>False</td>\n",
       "      <td>False</td>\n",
       "      <td>SPF</td>\n",
       "    </tr>\n",
       "    <tr>\n",
       "      <th>4</th>\n",
       "      <td>5</td>\n",
       "      <td>Fudan University</td>\n",
       "      <td>fudan.edu.cn</td>\n",
       "      <td>[&lt;DNS IN MX rdata: 1 mx-fudan-edu-cn.icoremail...</td>\n",
       "      <td>True</td>\n",
       "      <td>True</td>\n",
       "      <td>True</td>\n",
       "      <td>both</td>\n",
       "    </tr>\n",
       "    <tr>\n",
       "      <th>...</th>\n",
       "      <td>...</td>\n",
       "      <td>...</td>\n",
       "      <td>...</td>\n",
       "      <td>...</td>\n",
       "      <td>...</td>\n",
       "      <td>...</td>\n",
       "      <td>...</td>\n",
       "      <td>...</td>\n",
       "    </tr>\n",
       "    <tr>\n",
       "      <th>934</th>\n",
       "      <td>935</td>\n",
       "      <td>Heilongjiang University of Technology</td>\n",
       "      <td>hljut.edu.cn</td>\n",
       "      <td>[]</td>\n",
       "      <td>False</td>\n",
       "      <td>False</td>\n",
       "      <td>False</td>\n",
       "      <td>Neither</td>\n",
       "    </tr>\n",
       "    <tr>\n",
       "      <th>935</th>\n",
       "      <td>936</td>\n",
       "      <td>West Yunnan University</td>\n",
       "      <td>wynu.edu.cn</td>\n",
       "      <td>[]</td>\n",
       "      <td>False</td>\n",
       "      <td>False</td>\n",
       "      <td>False</td>\n",
       "      <td>Neither</td>\n",
       "    </tr>\n",
       "    <tr>\n",
       "      <th>936</th>\n",
       "      <td>937</td>\n",
       "      <td>Shenyang Institute of Science and Technology</td>\n",
       "      <td>syist.edu.cn</td>\n",
       "      <td>[&lt;DNS IN MX rdata: 5 mxbiz1.qq.com.&gt;]</td>\n",
       "      <td>False</td>\n",
       "      <td>False</td>\n",
       "      <td>False</td>\n",
       "      <td>Neither</td>\n",
       "    </tr>\n",
       "    <tr>\n",
       "      <th>937</th>\n",
       "      <td>938</td>\n",
       "      <td>Sanming University</td>\n",
       "      <td>smxy.cn</td>\n",
       "      <td>[]</td>\n",
       "      <td>False</td>\n",
       "      <td>False</td>\n",
       "      <td>False</td>\n",
       "      <td>Neither</td>\n",
       "    </tr>\n",
       "    <tr>\n",
       "      <th>938</th>\n",
       "      <td>939</td>\n",
       "      <td>Shanxi Institute of Energy</td>\n",
       "      <td>sxeu.cn</td>\n",
       "      <td>[]</td>\n",
       "      <td>False</td>\n",
       "      <td>False</td>\n",
       "      <td>False</td>\n",
       "      <td>Neither</td>\n",
       "    </tr>\n",
       "  </tbody>\n",
       "</table>\n",
       "<p>939 rows × 8 columns</p>\n",
       "</div>"
      ],
      "text/plain": [
       "     Rank                               University Name           Domain  \\\n",
       "0       1                           Tsinghua University  tsinghua.edu.cn   \n",
       "1       2                             Peking University       pku.edu.cn   \n",
       "2       3                           Zhejiang University       zju.edu.cn   \n",
       "3       4                 Shanghai Jiao Tong University      sjtu.edu.cn   \n",
       "4       5                              Fudan University     fudan.edu.cn   \n",
       "..    ...                                           ...              ...   \n",
       "934   935         Heilongjiang University of Technology     hljut.edu.cn   \n",
       "935   936                        West Yunnan University      wynu.edu.cn   \n",
       "936   937  Shenyang Institute of Science and Technology     syist.edu.cn   \n",
       "937   938                            Sanming University          smxy.cn   \n",
       "938   939                    Shanxi Institute of Energy          sxeu.cn   \n",
       "\n",
       "                                                    MX    SPF   DKIM  DMARC  \\\n",
       "0        [<DNS IN MX rdata: 10 mta0.tsinghua.edu.cn.>]   True   True   True   \n",
       "1               [<DNS IN MX rdata: 0 mx1.pku.edu.cn.>]   True   True   True   \n",
       "2             [<DNS IN MX rdata: 10 mail.zju.edu.cn.>]   True  False  False   \n",
       "3            [<DNS IN MX rdata: 20 mx03.sjtu.edu.cn.>]   True  False  False   \n",
       "4    [<DNS IN MX rdata: 1 mx-fudan-edu-cn.icoremail...   True   True   True   \n",
       "..                                                 ...    ...    ...    ...   \n",
       "934                                                 []  False  False  False   \n",
       "935                                                 []  False  False  False   \n",
       "936              [<DNS IN MX rdata: 5 mxbiz1.qq.com.>]  False  False  False   \n",
       "937                                                 []  False  False  False   \n",
       "938                                                 []  False  False  False   \n",
       "\n",
       "        auth  \n",
       "0       both  \n",
       "1       both  \n",
       "2        SPF  \n",
       "3        SPF  \n",
       "4       both  \n",
       "..       ...  \n",
       "934  Neither  \n",
       "935  Neither  \n",
       "936  Neither  \n",
       "937  Neither  \n",
       "938  Neither  \n",
       "\n",
       "[939 rows x 8 columns]"
      ]
     },
     "execution_count": 10,
     "metadata": {},
     "output_type": "execute_result"
    }
   ],
   "source": [
    "df"
   ]
  },
  {
   "cell_type": "code",
   "execution_count": 12,
   "id": "dce2b1a4",
   "metadata": {},
   "outputs": [
    {
     "name": "stdout",
     "output_type": "stream",
     "text": [
      "auth\n",
      "DMARC       17\n",
      "Neither    262\n",
      "SPF        410\n",
      "both       250\n",
      "Name: University Name, dtype: int64\n"
     ]
    },
    {
     "data": {
      "text/plain": [
       "<AxesSubplot:ylabel='University Name'>"
      ]
     },
     "execution_count": 12,
     "metadata": {},
     "output_type": "execute_result"
    },
    {
     "data": {
      "image/png": "[encoded data removed]",
      "text/plain": [
       "<Figure size 432x288 with 1 Axes>"
      ]
     },
     "metadata": {},
     "output_type": "display_data"
    }
   ],
   "source": [
    "df_auth = df.groupby(['auth']).count()['University Name']\n",
    "print(df_auth)\n",
    "df_auth.plot(kind=\"pie\", y=\"Unnamed: 0\", autopct='%1.0f%%')"
   ]
  },
  {
   "cell_type": "code",
   "execution_count": 14,
   "id": "fc237692",
   "metadata": {},
   "outputs": [
    {
     "data": {
      "text/html": [
       "<div>\n",
       "<style scoped>\n",
       "    .dataframe tbody tr th:only-of-type {\n",
       "        vertical-align: middle;\n",
       "    }\n",
       "\n",
       "    .dataframe tbody tr th {\n",
       "        vertical-align: top;\n",
       "    }\n",
       "\n",
       "    .dataframe thead th {\n",
       "        text-align: right;\n",
       "    }\n",
       "</style>\n",
       "<table border=\"1\" class=\"dataframe\">\n",
       "  <thead>\n",
       "    <tr style=\"text-align: right;\">\n",
       "      <th></th>\n",
       "      <th>Rank</th>\n",
       "      <th>University Name</th>\n",
       "      <th>Domain</th>\n",
       "      <th>MX</th>\n",
       "      <th>SPF</th>\n",
       "      <th>DKIM</th>\n",
       "      <th>DMARC</th>\n",
       "    </tr>\n",
       "  </thead>\n",
       "  <tbody>\n",
       "    <tr>\n",
       "      <th>0</th>\n",
       "      <td>1</td>\n",
       "      <td>Tsinghua University</td>\n",
       "      <td>tsinghua.edu.cn</td>\n",
       "      <td>[&lt;DNS IN MX rdata: 10 mta0.tsinghua.edu.cn.&gt;]</td>\n",
       "      <td>True</td>\n",
       "      <td>True</td>\n",
       "      <td>True</td>\n",
       "    </tr>\n",
       "    <tr>\n",
       "      <th>1</th>\n",
       "      <td>2</td>\n",
       "      <td>Peking University</td>\n",
       "      <td>pku.edu.cn</td>\n",
       "      <td>[&lt;DNS IN MX rdata: 0 mx1.pku.edu.cn.&gt;]</td>\n",
       "      <td>True</td>\n",
       "      <td>True</td>\n",
       "      <td>True</td>\n",
       "    </tr>\n",
       "    <tr>\n",
       "      <th>2</th>\n",
       "      <td>3</td>\n",
       "      <td>Zhejiang University</td>\n",
       "      <td>zju.edu.cn</td>\n",
       "      <td>[&lt;DNS IN MX rdata: 10 mail.zju.edu.cn.&gt;]</td>\n",
       "      <td>True</td>\n",
       "      <td>False</td>\n",
       "      <td>False</td>\n",
       "    </tr>\n",
       "    <tr>\n",
       "      <th>3</th>\n",
       "      <td>4</td>\n",
       "      <td>Shanghai Jiao Tong University</td>\n",
       "      <td>sjtu.edu.cn</td>\n",
       "      <td>[&lt;DNS IN MX rdata: 20 mx03.sjtu.edu.cn.&gt;]</td>\n",
       "      <td>True</td>\n",
       "      <td>False</td>\n",
       "      <td>False</td>\n",
       "    </tr>\n",
       "    <tr>\n",
       "      <th>4</th>\n",
       "      <td>5</td>\n",
       "      <td>Fudan University</td>\n",
       "      <td>fudan.edu.cn</td>\n",
       "      <td>[&lt;DNS IN MX rdata: 1 mx-fudan-edu-cn.icoremail...</td>\n",
       "      <td>True</td>\n",
       "      <td>True</td>\n",
       "      <td>True</td>\n",
       "    </tr>\n",
       "  </tbody>\n",
       "</table>\n",
       "</div>"
      ],
      "text/plain": [
       "   Rank                University Name           Domain  \\\n",
       "0     1            Tsinghua University  tsinghua.edu.cn   \n",
       "1     2              Peking University       pku.edu.cn   \n",
       "2     3            Zhejiang University       zju.edu.cn   \n",
       "3     4  Shanghai Jiao Tong University      sjtu.edu.cn   \n",
       "4     5               Fudan University     fudan.edu.cn   \n",
       "\n",
       "                                                  MX   SPF   DKIM  DMARC  \n",
       "0      [<DNS IN MX rdata: 10 mta0.tsinghua.edu.cn.>]  True   True   True  \n",
       "1             [<DNS IN MX rdata: 0 mx1.pku.edu.cn.>]  True   True   True  \n",
       "2           [<DNS IN MX rdata: 10 mail.zju.edu.cn.>]  True  False  False  \n",
       "3          [<DNS IN MX rdata: 20 mx03.sjtu.edu.cn.>]  True  False  False  \n",
       "4  [<DNS IN MX rdata: 1 mx-fudan-edu-cn.icoremail...  True   True   True  "
      ]
     },
     "execution_count": 14,
     "metadata": {},
     "output_type": "execute_result"
    }
   ],
   "source": [
    "df = pd.read_csv(\"final-result-1.csv\")\n",
    "df.head()"
   ]
  },
  {
   "cell_type": "code",
   "execution_count": 15,
   "id": "7f6d2805",
   "metadata": {},
   "outputs": [
    {
     "data": {
      "text/plain": [
       "847"
      ]
     },
     "execution_count": 15,
     "metadata": {},
     "output_type": "execute_result"
    }
   ],
   "source": [
    "len(df)"
   ]
  },
  {
   "cell_type": "code",
   "execution_count": 16,
   "id": "c881c3cd",
   "metadata": {},
   "outputs": [
    {
     "data": {
      "text/plain": [
       "SPF\n",
       "True     657\n",
       "False    190\n",
       "dtype: int64"
      ]
     },
     "execution_count": 16,
     "metadata": {},
     "output_type": "execute_result"
    },
    {
     "data": {
      "image/png": "[encoded data removed]",
      "text/plain": [
       "<Figure size 432x288 with 1 Axes>"
      ]
     },
     "metadata": {
      "needs_background": "light"
     },
     "output_type": "display_data"
    }
   ],
   "source": [
    "sns.countplot(data=df, x=\"SPF\")\n",
    "plt.title(\"Sender Policy Framework\")\n",
    "df.value_counts(\"SPF\")"
   ]
  },
  {
   "cell_type": "code",
   "execution_count": 17,
   "id": "7e824972",
   "metadata": {},
   "outputs": [
    {
     "data": {
      "text/plain": [
       "DMARC\n",
       "False    582\n",
       "True     265\n",
       "dtype: int64"
      ]
     },
     "execution_count": 17,
     "metadata": {},
     "output_type": "execute_result"
    },
    {
     "data": {
      "image/png": "[encoded data removed]",
      "text/plain": [
       "<Figure size 432x288 with 1 Axes>"
      ]
     },
     "metadata": {
      "needs_background": "light"
     },
     "output_type": "display_data"
    }
   ],
   "source": [
    "sns.countplot(data=df, x=\"DMARC\")\n",
    "plt.title(\"DMARC\")\n",
    "df.value_counts(\"DMARC\")"
   ]
  },
  {
   "cell_type": "code",
   "execution_count": 18,
   "id": "ac3d1001",
   "metadata": {},
   "outputs": [
    {
     "data": {
      "text/plain": [
       "DKIM\n",
       "False    830\n",
       "True      17\n",
       "dtype: int64"
      ]
     },
     "execution_count": 18,
     "metadata": {},
     "output_type": "execute_result"
    },
    {
     "data": {
      "image/png": "[encoded data removed]",
      "text/plain": [
       "<Figure size 432x288 with 1 Axes>"
      ]
     },
     "metadata": {
      "needs_background": "light"
     },
     "output_type": "display_data"
    }
   ],
   "source": [
    "sns.countplot(data=df, x=\"DKIM\")\n",
    "plt.title(\"DKIM\")\n",
    "df.value_counts(\"DKIM\")"
   ]
  },
  {
   "cell_type": "code",
   "execution_count": 19,
   "id": "459e9553",
   "metadata": {},
   "outputs": [],
   "source": [
    "def check_auth(row):\n",
    "  if row[\"SPF\"] and row[\"DMARC\"]:\n",
    "    return \"both\"\n",
    "  elif row[\"SPF\"]:\n",
    "    return \"SPF\"\n",
    "  elif row[\"DMARC\"]:\n",
    "    return \"DMARC\"\n",
    "  else:\n",
    "    return \"Neither\"\n",
    "  \n",
    "df[\"auth\"] = df.apply(lambda x: check_auth(x), axis=1)"
   ]
  },
  {
   "cell_type": "code",
   "execution_count": 20,
   "id": "6d611d0a",
   "metadata": {},
   "outputs": [
    {
     "data": {
      "text/html": [
       "<div>\n",
       "<style scoped>\n",
       "    .dataframe tbody tr th:only-of-type {\n",
       "        vertical-align: middle;\n",
       "    }\n",
       "\n",
       "    .dataframe tbody tr th {\n",
       "        vertical-align: top;\n",
       "    }\n",
       "\n",
       "    .dataframe thead th {\n",
       "        text-align: right;\n",
       "    }\n",
       "</style>\n",
       "<table border=\"1\" class=\"dataframe\">\n",
       "  <thead>\n",
       "    <tr style=\"text-align: right;\">\n",
       "      <th></th>\n",
       "      <th>Rank</th>\n",
       "      <th>University Name</th>\n",
       "      <th>Domain</th>\n",
       "      <th>MX</th>\n",
       "      <th>SPF</th>\n",
       "      <th>DKIM</th>\n",
       "      <th>DMARC</th>\n",
       "      <th>auth</th>\n",
       "    </tr>\n",
       "  </thead>\n",
       "  <tbody>\n",
       "    <tr>\n",
       "      <th>0</th>\n",
       "      <td>1</td>\n",
       "      <td>Tsinghua University</td>\n",
       "      <td>tsinghua.edu.cn</td>\n",
       "      <td>[&lt;DNS IN MX rdata: 10 mta0.tsinghua.edu.cn.&gt;]</td>\n",
       "      <td>True</td>\n",
       "      <td>True</td>\n",
       "      <td>True</td>\n",
       "      <td>both</td>\n",
       "    </tr>\n",
       "    <tr>\n",
       "      <th>1</th>\n",
       "      <td>2</td>\n",
       "      <td>Peking University</td>\n",
       "      <td>pku.edu.cn</td>\n",
       "      <td>[&lt;DNS IN MX rdata: 0 mx1.pku.edu.cn.&gt;]</td>\n",
       "      <td>True</td>\n",
       "      <td>True</td>\n",
       "      <td>True</td>\n",
       "      <td>both</td>\n",
       "    </tr>\n",
       "    <tr>\n",
       "      <th>2</th>\n",
       "      <td>3</td>\n",
       "      <td>Zhejiang University</td>\n",
       "      <td>zju.edu.cn</td>\n",
       "      <td>[&lt;DNS IN MX rdata: 10 mail.zju.edu.cn.&gt;]</td>\n",
       "      <td>True</td>\n",
       "      <td>False</td>\n",
       "      <td>False</td>\n",
       "      <td>SPF</td>\n",
       "    </tr>\n",
       "    <tr>\n",
       "      <th>3</th>\n",
       "      <td>4</td>\n",
       "      <td>Shanghai Jiao Tong University</td>\n",
       "      <td>sjtu.edu.cn</td>\n",
       "      <td>[&lt;DNS IN MX rdata: 20 mx03.sjtu.edu.cn.&gt;]</td>\n",
       "      <td>True</td>\n",
       "      <td>False</td>\n",
       "      <td>False</td>\n",
       "      <td>SPF</td>\n",
       "    </tr>\n",
       "    <tr>\n",
       "      <th>4</th>\n",
       "      <td>5</td>\n",
       "      <td>Fudan University</td>\n",
       "      <td>fudan.edu.cn</td>\n",
       "      <td>[&lt;DNS IN MX rdata: 1 mx-fudan-edu-cn.icoremail...</td>\n",
       "      <td>True</td>\n",
       "      <td>True</td>\n",
       "      <td>True</td>\n",
       "      <td>both</td>\n",
       "    </tr>\n",
       "    <tr>\n",
       "      <th>...</th>\n",
       "      <td>...</td>\n",
       "      <td>...</td>\n",
       "      <td>...</td>\n",
       "      <td>...</td>\n",
       "      <td>...</td>\n",
       "      <td>...</td>\n",
       "      <td>...</td>\n",
       "      <td>...</td>\n",
       "    </tr>\n",
       "    <tr>\n",
       "      <th>842</th>\n",
       "      <td>927</td>\n",
       "      <td>Harbin Huade University</td>\n",
       "      <td>hhdu.edu.cn</td>\n",
       "      <td>[&lt;DNS IN MX rdata: 10 mail.hhdu.edu.cn.&gt;]</td>\n",
       "      <td>False</td>\n",
       "      <td>False</td>\n",
       "      <td>False</td>\n",
       "      <td>Neither</td>\n",
       "    </tr>\n",
       "    <tr>\n",
       "      <th>843</th>\n",
       "      <td>929</td>\n",
       "      <td>Heilongjiang College of Business and Technology</td>\n",
       "      <td>hibu.edu.cn</td>\n",
       "      <td>[&lt;DNS IN MX rdata: 0 hibu-edu-cn.mail.protecti...</td>\n",
       "      <td>True</td>\n",
       "      <td>False</td>\n",
       "      <td>False</td>\n",
       "      <td>SPF</td>\n",
       "    </tr>\n",
       "    <tr>\n",
       "      <th>844</th>\n",
       "      <td>930</td>\n",
       "      <td>Dalian University of Science and Technology</td>\n",
       "      <td>dlust.edu.cn</td>\n",
       "      <td>[&lt;DNS IN MX rdata: 10 hzmx02.mxmail.netease.co...</td>\n",
       "      <td>True</td>\n",
       "      <td>False</td>\n",
       "      <td>True</td>\n",
       "      <td>both</td>\n",
       "    </tr>\n",
       "    <tr>\n",
       "      <th>845</th>\n",
       "      <td>934</td>\n",
       "      <td>West Yunnan University of Applied Sciences</td>\n",
       "      <td>wyuas.edu.cn</td>\n",
       "      <td>[&lt;DNS IN MX rdata: 10 mail.wyuas.edu.cn.&gt;]</td>\n",
       "      <td>True</td>\n",
       "      <td>False</td>\n",
       "      <td>False</td>\n",
       "      <td>SPF</td>\n",
       "    </tr>\n",
       "    <tr>\n",
       "      <th>846</th>\n",
       "      <td>937</td>\n",
       "      <td>Shenyang Institute of Science and Technology</td>\n",
       "      <td>syist.edu.cn</td>\n",
       "      <td>[&lt;DNS IN MX rdata: 5 mxbiz1.qq.com.&gt;]</td>\n",
       "      <td>False</td>\n",
       "      <td>False</td>\n",
       "      <td>False</td>\n",
       "      <td>Neither</td>\n",
       "    </tr>\n",
       "  </tbody>\n",
       "</table>\n",
       "<p>847 rows × 8 columns</p>\n",
       "</div>"
      ],
      "text/plain": [
       "     Rank                                  University Name           Domain  \\\n",
       "0       1                              Tsinghua University  tsinghua.edu.cn   \n",
       "1       2                                Peking University       pku.edu.cn   \n",
       "2       3                              Zhejiang University       zju.edu.cn   \n",
       "3       4                    Shanghai Jiao Tong University      sjtu.edu.cn   \n",
       "4       5                                 Fudan University     fudan.edu.cn   \n",
       "..    ...                                              ...              ...   \n",
       "842   927                          Harbin Huade University      hhdu.edu.cn   \n",
       "843   929  Heilongjiang College of Business and Technology      hibu.edu.cn   \n",
       "844   930      Dalian University of Science and Technology     dlust.edu.cn   \n",
       "845   934       West Yunnan University of Applied Sciences     wyuas.edu.cn   \n",
       "846   937     Shenyang Institute of Science and Technology     syist.edu.cn   \n",
       "\n",
       "                                                    MX    SPF   DKIM  DMARC  \\\n",
       "0        [<DNS IN MX rdata: 10 mta0.tsinghua.edu.cn.>]   True   True   True   \n",
       "1               [<DNS IN MX rdata: 0 mx1.pku.edu.cn.>]   True   True   True   \n",
       "2             [<DNS IN MX rdata: 10 mail.zju.edu.cn.>]   True  False  False   \n",
       "3            [<DNS IN MX rdata: 20 mx03.sjtu.edu.cn.>]   True  False  False   \n",
       "4    [<DNS IN MX rdata: 1 mx-fudan-edu-cn.icoremail...   True   True   True   \n",
       "..                                                 ...    ...    ...    ...   \n",
       "842          [<DNS IN MX rdata: 10 mail.hhdu.edu.cn.>]  False  False  False   \n",
       "843  [<DNS IN MX rdata: 0 hibu-edu-cn.mail.protecti...   True  False  False   \n",
       "844  [<DNS IN MX rdata: 10 hzmx02.mxmail.netease.co...   True  False   True   \n",
       "845         [<DNS IN MX rdata: 10 mail.wyuas.edu.cn.>]   True  False  False   \n",
       "846              [<DNS IN MX rdata: 5 mxbiz1.qq.com.>]  False  False  False   \n",
       "\n",
       "        auth  \n",
       "0       both  \n",
       "1       both  \n",
       "2        SPF  \n",
       "3        SPF  \n",
       "4       both  \n",
       "..       ...  \n",
       "842  Neither  \n",
       "843      SPF  \n",
       "844     both  \n",
       "845      SPF  \n",
       "846  Neither  \n",
       "\n",
       "[847 rows x 8 columns]"
      ]
     },
     "execution_count": 20,
     "metadata": {},
     "output_type": "execute_result"
    }
   ],
   "source": [
    "df"
   ]
  },
  {
   "cell_type": "code",
   "execution_count": 21,
   "id": "7556f422",
   "metadata": {},
   "outputs": [
    {
     "name": "stdout",
     "output_type": "stream",
     "text": [
      "auth\n",
      "DMARC       16\n",
      "Neither    174\n",
      "SPF        408\n",
      "both       249\n",
      "Name: University Name, dtype: int64\n"
     ]
    },
    {
     "data": {
      "text/plain": [
       "<AxesSubplot:ylabel='University Name'>"
      ]
     },
     "execution_count": 21,
     "metadata": {},
     "output_type": "execute_result"
    },
    {
     "data": {
      "image/png": "[encoded data removed]",
      "text/plain": [
       "<Figure size 432x288 with 1 Axes>"
      ]
     },
     "metadata": {},
     "output_type": "display_data"
    }
   ],
   "source": [
    "df_auth = df.groupby(['auth']).count()['University Name']\n",
    "print(df_auth)\n",
    "df_auth.plot(kind=\"pie\", y=\"Unnamed: 0\", autopct='%1.0f%%')"
   ]
  },
  {
   "cell_type": "code",
   "execution_count": 23,
   "id": "b9cc9ae4",
   "metadata": {},
   "outputs": [
    {
     "name": "stdout",
     "output_type": "stream",
     "text": [
      "SPF\n",
      "False    190\n",
      "True     657\n",
      "Name: University Name, dtype: int64\n"
     ]
    },
    {
     "data": {
      "text/plain": [
       "<AxesSubplot:ylabel='University Name'>"
      ]
     },
     "execution_count": 23,
     "metadata": {},
     "output_type": "execute_result"
    },
    {
     "data": {
      "image/png": "[encoded data removed]",
      "text/plain": [
       "<Figure size 432x288 with 1 Axes>"
      ]
     },
     "metadata": {},
     "output_type": "display_data"
    }
   ],
   "source": [
    "df_spf = df.groupby(['SPF']).count()['University Name']\n",
    "print(df_spf)\n",
    "df_spf.plot(kind=\"pie\", y=\"Unnamed: 0\", autopct='%1.0f%%')"
   ]
  },
  {
   "cell_type": "code",
   "execution_count": 24,
   "id": "a8fb8b3a",
   "metadata": {},
   "outputs": [
    {
     "name": "stdout",
     "output_type": "stream",
     "text": [
      "DMARC\n",
      "False    582\n",
      "True     265\n",
      "Name: University Name, dtype: int64\n"
     ]
    },
    {
     "data": {
      "text/plain": [
       "<AxesSubplot:ylabel='University Name'>"
      ]
     },
     "execution_count": 24,
     "metadata": {},
     "output_type": "execute_result"
    },
    {
     "data": {
      "image/png": "[encoded data removed]",
      "text/plain": [
       "<Figure size 432x288 with 1 Axes>"
      ]
     },
     "metadata": {},
     "output_type": "display_data"
    }
   ],
   "source": [
    "df_dmarc = df.groupby(['DMARC']).count()['University Name']\n",
    "print(df_dmarc)\n",
    "df_dmarc.plot(kind=\"pie\", y=\"Unnamed: 0\", autopct='%1.0f%%')"
   ]
  },
  {
   "cell_type": "code",
   "execution_count": 29,
   "id": "f3e6fdc6",
   "metadata": {},
   "outputs": [],
   "source": [
    "def mx(row):\n",
    "    if \"qq\" in row[\"MX\"]:\n",
    "        return \"qq\"\n",
    "    elif \"netease\" in row[\"MX\"]:\n",
    "        return \"netease\"\n",
    "    elif \"icoremail\" in row[\"MX\"]:\n",
    "        return \"coremail\"\n",
    "    elif \"163\" in row[\"MX\"]:\n",
    "        return \"netease\"\n",
    "    elif \"outlook\" in row[\"MX\"]:\n",
    "        return \"outlook\"\n",
    "    elif \"eyou\" in row[\"MX\"]:\n",
    "        return \"eyou\"\n",
    "    elif \"aliyun\" in row[\"MX\"]:\n",
    "        return \"aliyun\"\n",
    "    elif \"edu.cn\" in row[\"MX\"]:\n",
    "        return \"own server\"\n",
    "    else:\n",
    "        return \"other\"\n",
    "\n",
    "df[\"Server\"] = df.apply(lambda x: mx(x), axis=1)"
   ]
  },
  {
   "cell_type": "code",
   "execution_count": 30,
   "id": "17bb9b36",
   "metadata": {},
   "outputs": [
    {
     "data": {
      "text/html": [
       "<div>\n",
       "<style scoped>\n",
       "    .dataframe tbody tr th:only-of-type {\n",
       "        vertical-align: middle;\n",
       "    }\n",
       "\n",
       "    .dataframe tbody tr th {\n",
       "        vertical-align: top;\n",
       "    }\n",
       "\n",
       "    .dataframe thead th {\n",
       "        text-align: right;\n",
       "    }\n",
       "</style>\n",
       "<table border=\"1\" class=\"dataframe\">\n",
       "  <thead>\n",
       "    <tr style=\"text-align: right;\">\n",
       "      <th></th>\n",
       "      <th>Rank</th>\n",
       "      <th>University Name</th>\n",
       "      <th>Domain</th>\n",
       "      <th>MX</th>\n",
       "      <th>SPF</th>\n",
       "      <th>DKIM</th>\n",
       "      <th>DMARC</th>\n",
       "      <th>auth</th>\n",
       "      <th>Server</th>\n",
       "    </tr>\n",
       "  </thead>\n",
       "  <tbody>\n",
       "    <tr>\n",
       "      <th>0</th>\n",
       "      <td>1</td>\n",
       "      <td>Tsinghua University</td>\n",
       "      <td>tsinghua.edu.cn</td>\n",
       "      <td>[&lt;DNS IN MX rdata: 10 mta0.tsinghua.edu.cn.&gt;]</td>\n",
       "      <td>True</td>\n",
       "      <td>True</td>\n",
       "      <td>True</td>\n",
       "      <td>both</td>\n",
       "      <td>own server</td>\n",
       "    </tr>\n",
       "    <tr>\n",
       "      <th>1</th>\n",
       "      <td>2</td>\n",
       "      <td>Peking University</td>\n",
       "      <td>pku.edu.cn</td>\n",
       "      <td>[&lt;DNS IN MX rdata: 0 mx1.pku.edu.cn.&gt;]</td>\n",
       "      <td>True</td>\n",
       "      <td>True</td>\n",
       "      <td>True</td>\n",
       "      <td>both</td>\n",
       "      <td>own server</td>\n",
       "    </tr>\n",
       "    <tr>\n",
       "      <th>2</th>\n",
       "      <td>3</td>\n",
       "      <td>Zhejiang University</td>\n",
       "      <td>zju.edu.cn</td>\n",
       "      <td>[&lt;DNS IN MX rdata: 10 mail.zju.edu.cn.&gt;]</td>\n",
       "      <td>True</td>\n",
       "      <td>False</td>\n",
       "      <td>False</td>\n",
       "      <td>SPF</td>\n",
       "      <td>own server</td>\n",
       "    </tr>\n",
       "    <tr>\n",
       "      <th>3</th>\n",
       "      <td>4</td>\n",
       "      <td>Shanghai Jiao Tong University</td>\n",
       "      <td>sjtu.edu.cn</td>\n",
       "      <td>[&lt;DNS IN MX rdata: 20 mx03.sjtu.edu.cn.&gt;]</td>\n",
       "      <td>True</td>\n",
       "      <td>False</td>\n",
       "      <td>False</td>\n",
       "      <td>SPF</td>\n",
       "      <td>own server</td>\n",
       "    </tr>\n",
       "    <tr>\n",
       "      <th>4</th>\n",
       "      <td>5</td>\n",
       "      <td>Fudan University</td>\n",
       "      <td>fudan.edu.cn</td>\n",
       "      <td>[&lt;DNS IN MX rdata: 1 mx-fudan-edu-cn.icoremail...</td>\n",
       "      <td>True</td>\n",
       "      <td>True</td>\n",
       "      <td>True</td>\n",
       "      <td>both</td>\n",
       "      <td>coremail</td>\n",
       "    </tr>\n",
       "    <tr>\n",
       "      <th>...</th>\n",
       "      <td>...</td>\n",
       "      <td>...</td>\n",
       "      <td>...</td>\n",
       "      <td>...</td>\n",
       "      <td>...</td>\n",
       "      <td>...</td>\n",
       "      <td>...</td>\n",
       "      <td>...</td>\n",
       "      <td>...</td>\n",
       "    </tr>\n",
       "    <tr>\n",
       "      <th>842</th>\n",
       "      <td>927</td>\n",
       "      <td>Harbin Huade University</td>\n",
       "      <td>hhdu.edu.cn</td>\n",
       "      <td>[&lt;DNS IN MX rdata: 10 mail.hhdu.edu.cn.&gt;]</td>\n",
       "      <td>False</td>\n",
       "      <td>False</td>\n",
       "      <td>False</td>\n",
       "      <td>Neither</td>\n",
       "      <td>own server</td>\n",
       "    </tr>\n",
       "    <tr>\n",
       "      <th>843</th>\n",
       "      <td>929</td>\n",
       "      <td>Heilongjiang College of Business and Technology</td>\n",
       "      <td>hibu.edu.cn</td>\n",
       "      <td>[&lt;DNS IN MX rdata: 0 hibu-edu-cn.mail.protecti...</td>\n",
       "      <td>True</td>\n",
       "      <td>False</td>\n",
       "      <td>False</td>\n",
       "      <td>SPF</td>\n",
       "      <td>outlook</td>\n",
       "    </tr>\n",
       "    <tr>\n",
       "      <th>844</th>\n",
       "      <td>930</td>\n",
       "      <td>Dalian University of Science and Technology</td>\n",
       "      <td>dlust.edu.cn</td>\n",
       "      <td>[&lt;DNS IN MX rdata: 10 hzmx02.mxmail.netease.co...</td>\n",
       "      <td>True</td>\n",
       "      <td>False</td>\n",
       "      <td>True</td>\n",
       "      <td>both</td>\n",
       "      <td>netease</td>\n",
       "    </tr>\n",
       "    <tr>\n",
       "      <th>845</th>\n",
       "      <td>934</td>\n",
       "      <td>West Yunnan University of Applied Sciences</td>\n",
       "      <td>wyuas.edu.cn</td>\n",
       "      <td>[&lt;DNS IN MX rdata: 10 mail.wyuas.edu.cn.&gt;]</td>\n",
       "      <td>True</td>\n",
       "      <td>False</td>\n",
       "      <td>False</td>\n",
       "      <td>SPF</td>\n",
       "      <td>own server</td>\n",
       "    </tr>\n",
       "    <tr>\n",
       "      <th>846</th>\n",
       "      <td>937</td>\n",
       "      <td>Shenyang Institute of Science and Technology</td>\n",
       "      <td>syist.edu.cn</td>\n",
       "      <td>[&lt;DNS IN MX rdata: 5 mxbiz1.qq.com.&gt;]</td>\n",
       "      <td>False</td>\n",
       "      <td>False</td>\n",
       "      <td>False</td>\n",
       "      <td>Neither</td>\n",
       "      <td>qq</td>\n",
       "    </tr>\n",
       "  </tbody>\n",
       "</table>\n",
       "<p>847 rows × 9 columns</p>\n",
       "</div>"
      ],
      "text/plain": [
       "     Rank                                  University Name           Domain  \\\n",
       "0       1                              Tsinghua University  tsinghua.edu.cn   \n",
       "1       2                                Peking University       pku.edu.cn   \n",
       "2       3                              Zhejiang University       zju.edu.cn   \n",
       "3       4                    Shanghai Jiao Tong University      sjtu.edu.cn   \n",
       "4       5                                 Fudan University     fudan.edu.cn   \n",
       "..    ...                                              ...              ...   \n",
       "842   927                          Harbin Huade University      hhdu.edu.cn   \n",
       "843   929  Heilongjiang College of Business and Technology      hibu.edu.cn   \n",
       "844   930      Dalian University of Science and Technology     dlust.edu.cn   \n",
       "845   934       West Yunnan University of Applied Sciences     wyuas.edu.cn   \n",
       "846   937     Shenyang Institute of Science and Technology     syist.edu.cn   \n",
       "\n",
       "                                                    MX    SPF   DKIM  DMARC  \\\n",
       "0        [<DNS IN MX rdata: 10 mta0.tsinghua.edu.cn.>]   True   True   True   \n",
       "1               [<DNS IN MX rdata: 0 mx1.pku.edu.cn.>]   True   True   True   \n",
       "2             [<DNS IN MX rdata: 10 mail.zju.edu.cn.>]   True  False  False   \n",
       "3            [<DNS IN MX rdata: 20 mx03.sjtu.edu.cn.>]   True  False  False   \n",
       "4    [<DNS IN MX rdata: 1 mx-fudan-edu-cn.icoremail...   True   True   True   \n",
       "..                                                 ...    ...    ...    ...   \n",
       "842          [<DNS IN MX rdata: 10 mail.hhdu.edu.cn.>]  False  False  False   \n",
       "843  [<DNS IN MX rdata: 0 hibu-edu-cn.mail.protecti...   True  False  False   \n",
       "844  [<DNS IN MX rdata: 10 hzmx02.mxmail.netease.co...   True  False   True   \n",
       "845         [<DNS IN MX rdata: 10 mail.wyuas.edu.cn.>]   True  False  False   \n",
       "846              [<DNS IN MX rdata: 5 mxbiz1.qq.com.>]  False  False  False   \n",
       "\n",
       "        auth      Server  \n",
       "0       both  own server  \n",
       "1       both  own server  \n",
       "2        SPF  own server  \n",
       "3        SPF  own server  \n",
       "4       both    coremail  \n",
       "..       ...         ...  \n",
       "842  Neither  own server  \n",
       "843      SPF     outlook  \n",
       "844     both     netease  \n",
       "845      SPF  own server  \n",
       "846  Neither          qq  \n",
       "\n",
       "[847 rows x 9 columns]"
      ]
     },
     "execution_count": 30,
     "metadata": {},
     "output_type": "execute_result"
    }
   ],
   "source": [
    "df"
   ]
  },
  {
   "cell_type": "code",
   "execution_count": 31,
   "id": "82f63c60",
   "metadata": {},
   "outputs": [
    {
     "name": "stdout",
     "output_type": "stream",
     "text": [
      "Server\n",
      "aliyun          4\n",
      "coremail       52\n",
      "eyou            8\n",
      "netease       208\n",
      "other          28\n",
      "outlook         9\n",
      "own server    183\n",
      "qq            355\n",
      "Name: University Name, dtype: int64\n"
     ]
    },
    {
     "data": {
      "text/plain": [
       "<AxesSubplot:ylabel='University Name'>"
      ]
     },
     "execution_count": 31,
     "metadata": {},
     "output_type": "execute_result"
    },
    {
     "data": {
      "image/png": "[encoded data removed]",
      "text/plain": [
       "<Figure size 432x288 with 1 Axes>"
      ]
     },
     "metadata": {},
     "output_type": "display_data"
    }
   ],
   "source": [
    "df_sev = df.groupby(['Server']).count()['University Name']\n",
    "print(df_sev)\n",
    "df_sev.plot(kind=\"pie\", y=\"Unnamed: 0\", autopct='%1.0f%%')"
   ]
  },
  {
   "cell_type": "code",
   "execution_count": 32,
   "id": "22646113",
   "metadata": {},
   "outputs": [],
   "source": [
    "df.to_csv('analysis-result.csv')"
   ]
  },
  {
   "cell_type": "code",
   "execution_count": null,
   "id": "8685b675",
   "metadata": {},
   "outputs": [],
   "source": []
  }
 ],
 "metadata": {
  "kernelspec": {
   "display_name": "Python 3",
   "language": "python",
   "name": "python3"
  },
  "language_info": {
   "codemirror_mode": {
    "name": "ipython",
    "version": 3
   },
   "file_extension": ".py",
   "mimetype": "text/x-python",
   "name": "python",
   "nbconvert_exporter": "python",
   "pygments_lexer": "ipython3",
   "version": "3.8.8"
  }
 },
 "nbformat": 4,
 "nbformat_minor": 5
}
