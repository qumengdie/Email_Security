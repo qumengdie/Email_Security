{
 "cells": [
  {
   "cell_type": "code",
   "execution_count": 121,
   "id": "d5a9f17d",
   "metadata": {},
   "outputs": [],
   "source": [
    "%matplotlib inline\n",
    "from pathlib import Path\n",
    "import pandas as pd\n",
    "import matplotlib.pyplot as plt\n",
    "import seaborn as sns\n",
    "import plotly.graph_objects as go\n",
    "from plotly.subplots import make_subplots"
   ]
  },
  {
   "cell_type": "code",
   "execution_count": 14,
   "id": "a8762f82",
   "metadata": {},
   "outputs": [
    {
     "data": {
      "text/html": [
       "<div>\n",
       "<style scoped>\n",
       "    .dataframe tbody tr th:only-of-type {\n",
       "        vertical-align: middle;\n",
       "    }\n",
       "\n",
       "    .dataframe tbody tr th {\n",
       "        vertical-align: top;\n",
       "    }\n",
       "\n",
       "    .dataframe thead th {\n",
       "        text-align: right;\n",
       "    }\n",
       "</style>\n",
       "<table border=\"1\" class=\"dataframe\">\n",
       "  <thead>\n",
       "    <tr style=\"text-align: right;\">\n",
       "      <th></th>\n",
       "      <th>Rank</th>\n",
       "      <th>University Name</th>\n",
       "      <th>Domain</th>\n",
       "      <th>MX</th>\n",
       "      <th>SPF</th>\n",
       "      <th>DKIM</th>\n",
       "      <th>DMARC</th>\n",
       "    </tr>\n",
       "  </thead>\n",
       "  <tbody>\n",
       "    <tr>\n",
       "      <th>0</th>\n",
       "      <td>1</td>\n",
       "      <td>Tsinghua University</td>\n",
       "      <td>tsinghua.edu.cn</td>\n",
       "      <td>[&lt;DNS IN MX rdata: 10 mta0.tsinghua.edu.cn.&gt;]</td>\n",
       "      <td>True</td>\n",
       "      <td>True</td>\n",
       "      <td>True</td>\n",
       "    </tr>\n",
       "    <tr>\n",
       "      <th>1</th>\n",
       "      <td>2</td>\n",
       "      <td>Peking University</td>\n",
       "      <td>pku.edu.cn</td>\n",
       "      <td>[&lt;DNS IN MX rdata: 0 mx1.pku.edu.cn.&gt;]</td>\n",
       "      <td>True</td>\n",
       "      <td>True</td>\n",
       "      <td>True</td>\n",
       "    </tr>\n",
       "    <tr>\n",
       "      <th>2</th>\n",
       "      <td>3</td>\n",
       "      <td>Zhejiang University</td>\n",
       "      <td>zju.edu.cn</td>\n",
       "      <td>[&lt;DNS IN MX rdata: 10 mail.zju.edu.cn.&gt;]</td>\n",
       "      <td>True</td>\n",
       "      <td>False</td>\n",
       "      <td>False</td>\n",
       "    </tr>\n",
       "    <tr>\n",
       "      <th>3</th>\n",
       "      <td>4</td>\n",
       "      <td>Shanghai Jiao Tong University</td>\n",
       "      <td>sjtu.edu.cn</td>\n",
       "      <td>[&lt;DNS IN MX rdata: 20 mx03.sjtu.edu.cn.&gt;]</td>\n",
       "      <td>True</td>\n",
       "      <td>False</td>\n",
       "      <td>False</td>\n",
       "    </tr>\n",
       "    <tr>\n",
       "      <th>4</th>\n",
       "      <td>5</td>\n",
       "      <td>Fudan University</td>\n",
       "      <td>fudan.edu.cn</td>\n",
       "      <td>[&lt;DNS IN MX rdata: 1 mx-fudan-edu-cn.icoremail...</td>\n",
       "      <td>True</td>\n",
       "      <td>True</td>\n",
       "      <td>True</td>\n",
       "    </tr>\n",
       "  </tbody>\n",
       "</table>\n",
       "</div>"
      ],
      "text/plain": [
       "   Rank                University Name           Domain  \\\n",
       "0     1            Tsinghua University  tsinghua.edu.cn   \n",
       "1     2              Peking University       pku.edu.cn   \n",
       "2     3            Zhejiang University       zju.edu.cn   \n",
       "3     4  Shanghai Jiao Tong University      sjtu.edu.cn   \n",
       "4     5               Fudan University     fudan.edu.cn   \n",
       "\n",
       "                                                  MX   SPF   DKIM  DMARC  \n",
       "0      [<DNS IN MX rdata: 10 mta0.tsinghua.edu.cn.>]  True   True   True  \n",
       "1             [<DNS IN MX rdata: 0 mx1.pku.edu.cn.>]  True   True   True  \n",
       "2           [<DNS IN MX rdata: 10 mail.zju.edu.cn.>]  True  False  False  \n",
       "3          [<DNS IN MX rdata: 20 mx03.sjtu.edu.cn.>]  True  False  False  \n",
       "4  [<DNS IN MX rdata: 1 mx-fudan-edu-cn.icoremail...  True   True   True  "
      ]
     },
     "execution_count": 14,
     "metadata": {},
     "output_type": "execute_result"
    }
   ],
   "source": [
    "df = pd.read_csv(\"final-result-1.csv\")\n",
    "df.head()"
   ]
  },
  {
   "cell_type": "code",
   "execution_count": 15,
   "id": "9c2e63a2",
   "metadata": {},
   "outputs": [
    {
     "data": {
      "text/plain": [
       "847"
      ]
     },
     "execution_count": 15,
     "metadata": {},
     "output_type": "execute_result"
    }
   ],
   "source": [
    "len(df)"
   ]
  },
  {
   "cell_type": "code",
   "execution_count": 74,
   "id": "9d58d693",
   "metadata": {},
   "outputs": [
    {
     "data": {
      "image/png": "[encoded data removed]",
      "text/plain": [
       "<Figure size 432x288 with 1 Axes>"
      ]
     },
     "metadata": {
      "needs_background": "light"
     },
     "output_type": "display_data"
    }
   ],
   "source": [
    "ax = sns.countplot(x=\"DKIM\", data=df)\n",
    "# add the counts and percentages to the plot\n",
    "for p in ax.patches:\n",
    "    height = p.get_height()\n",
    "    ax.annotate('{:d} ({:.1f}%)'.format(height, height/len(df)*100), (p.get_x()+0.25, height+3))\n",
    "plt.title(\"DKIM\")\n",
    "df.value_counts(\"DKIM\")\n",
    "plt.savefig('DKIM.jpg')"
   ]
  },
  {
   "cell_type": "code",
   "execution_count": 19,
   "id": "3b3e5b7b",
   "metadata": {},
   "outputs": [],
   "source": [
    "def check_auth(row):\n",
    "  if row[\"SPF\"] and row[\"DMARC\"]:\n",
    "    return \"both\"\n",
    "  elif row[\"SPF\"]:\n",
    "    return \"SPF\"\n",
    "  elif row[\"DMARC\"]:\n",
    "    return \"DMARC\"\n",
    "  else:\n",
    "    return \"Neither\"\n",
    "  \n",
    "df[\"auth\"] = df.apply(lambda x: check_auth(x), axis=1)"
   ]
  },
  {
   "cell_type": "code",
   "execution_count": 20,
   "id": "dd37b6e5",
   "metadata": {},
   "outputs": [
    {
     "data": {
      "text/html": [
       "<div>\n",
       "<style scoped>\n",
       "    .dataframe tbody tr th:only-of-type {\n",
       "        vertical-align: middle;\n",
       "    }\n",
       "\n",
       "    .dataframe tbody tr th {\n",
       "        vertical-align: top;\n",
       "    }\n",
       "\n",
       "    .dataframe thead th {\n",
       "        text-align: right;\n",
       "    }\n",
       "</style>\n",
       "<table border=\"1\" class=\"dataframe\">\n",
       "  <thead>\n",
       "    <tr style=\"text-align: right;\">\n",
       "      <th></th>\n",
       "      <th>Rank</th>\n",
       "      <th>University Name</th>\n",
       "      <th>Domain</th>\n",
       "      <th>MX</th>\n",
       "      <th>SPF</th>\n",
       "      <th>DKIM</th>\n",
       "      <th>DMARC</th>\n",
       "      <th>auth</th>\n",
       "    </tr>\n",
       "  </thead>\n",
       "  <tbody>\n",
       "    <tr>\n",
       "      <th>0</th>\n",
       "      <td>1</td>\n",
       "      <td>Tsinghua University</td>\n",
       "      <td>tsinghua.edu.cn</td>\n",
       "      <td>[&lt;DNS IN MX rdata: 10 mta0.tsinghua.edu.cn.&gt;]</td>\n",
       "      <td>True</td>\n",
       "      <td>True</td>\n",
       "      <td>True</td>\n",
       "      <td>both</td>\n",
       "    </tr>\n",
       "    <tr>\n",
       "      <th>1</th>\n",
       "      <td>2</td>\n",
       "      <td>Peking University</td>\n",
       "      <td>pku.edu.cn</td>\n",
       "      <td>[&lt;DNS IN MX rdata: 0 mx1.pku.edu.cn.&gt;]</td>\n",
       "      <td>True</td>\n",
       "      <td>True</td>\n",
       "      <td>True</td>\n",
       "      <td>both</td>\n",
       "    </tr>\n",
       "    <tr>\n",
       "      <th>2</th>\n",
       "      <td>3</td>\n",
       "      <td>Zhejiang University</td>\n",
       "      <td>zju.edu.cn</td>\n",
       "      <td>[&lt;DNS IN MX rdata: 10 mail.zju.edu.cn.&gt;]</td>\n",
       "      <td>True</td>\n",
       "      <td>False</td>\n",
       "      <td>False</td>\n",
       "      <td>SPF</td>\n",
       "    </tr>\n",
       "    <tr>\n",
       "      <th>3</th>\n",
       "      <td>4</td>\n",
       "      <td>Shanghai Jiao Tong University</td>\n",
       "      <td>sjtu.edu.cn</td>\n",
       "      <td>[&lt;DNS IN MX rdata: 20 mx03.sjtu.edu.cn.&gt;]</td>\n",
       "      <td>True</td>\n",
       "      <td>False</td>\n",
       "      <td>False</td>\n",
       "      <td>SPF</td>\n",
       "    </tr>\n",
       "    <tr>\n",
       "      <th>4</th>\n",
       "      <td>5</td>\n",
       "      <td>Fudan University</td>\n",
       "      <td>fudan.edu.cn</td>\n",
       "      <td>[&lt;DNS IN MX rdata: 1 mx-fudan-edu-cn.icoremail...</td>\n",
       "      <td>True</td>\n",
       "      <td>True</td>\n",
       "      <td>True</td>\n",
       "      <td>both</td>\n",
       "    </tr>\n",
       "    <tr>\n",
       "      <th>...</th>\n",
       "      <td>...</td>\n",
       "      <td>...</td>\n",
       "      <td>...</td>\n",
       "      <td>...</td>\n",
       "      <td>...</td>\n",
       "      <td>...</td>\n",
       "      <td>...</td>\n",
       "      <td>...</td>\n",
       "    </tr>\n",
       "    <tr>\n",
       "      <th>842</th>\n",
       "      <td>927</td>\n",
       "      <td>Harbin Huade University</td>\n",
       "      <td>hhdu.edu.cn</td>\n",
       "      <td>[&lt;DNS IN MX rdata: 10 mail.hhdu.edu.cn.&gt;]</td>\n",
       "      <td>False</td>\n",
       "      <td>False</td>\n",
       "      <td>False</td>\n",
       "      <td>Neither</td>\n",
       "    </tr>\n",
       "    <tr>\n",
       "      <th>843</th>\n",
       "      <td>929</td>\n",
       "      <td>Heilongjiang College of Business and Technology</td>\n",
       "      <td>hibu.edu.cn</td>\n",
       "      <td>[&lt;DNS IN MX rdata: 0 hibu-edu-cn.mail.protecti...</td>\n",
       "      <td>True</td>\n",
       "      <td>False</td>\n",
       "      <td>False</td>\n",
       "      <td>SPF</td>\n",
       "    </tr>\n",
       "    <tr>\n",
       "      <th>844</th>\n",
       "      <td>930</td>\n",
       "      <td>Dalian University of Science and Technology</td>\n",
       "      <td>dlust.edu.cn</td>\n",
       "      <td>[&lt;DNS IN MX rdata: 10 hzmx02.mxmail.netease.co...</td>\n",
       "      <td>True</td>\n",
       "      <td>False</td>\n",
       "      <td>True</td>\n",
       "      <td>both</td>\n",
       "    </tr>\n",
       "    <tr>\n",
       "      <th>845</th>\n",
       "      <td>934</td>\n",
       "      <td>West Yunnan University of Applied Sciences</td>\n",
       "      <td>wyuas.edu.cn</td>\n",
       "      <td>[&lt;DNS IN MX rdata: 10 mail.wyuas.edu.cn.&gt;]</td>\n",
       "      <td>True</td>\n",
       "      <td>False</td>\n",
       "      <td>False</td>\n",
       "      <td>SPF</td>\n",
       "    </tr>\n",
       "    <tr>\n",
       "      <th>846</th>\n",
       "      <td>937</td>\n",
       "      <td>Shenyang Institute of Science and Technology</td>\n",
       "      <td>syist.edu.cn</td>\n",
       "      <td>[&lt;DNS IN MX rdata: 5 mxbiz1.qq.com.&gt;]</td>\n",
       "      <td>False</td>\n",
       "      <td>False</td>\n",
       "      <td>False</td>\n",
       "      <td>Neither</td>\n",
       "    </tr>\n",
       "  </tbody>\n",
       "</table>\n",
       "<p>847 rows × 8 columns</p>\n",
       "</div>"
      ],
      "text/plain": [
       "     Rank                                  University Name           Domain  \\\n",
       "0       1                              Tsinghua University  tsinghua.edu.cn   \n",
       "1       2                                Peking University       pku.edu.cn   \n",
       "2       3                              Zhejiang University       zju.edu.cn   \n",
       "3       4                    Shanghai Jiao Tong University      sjtu.edu.cn   \n",
       "4       5                                 Fudan University     fudan.edu.cn   \n",
       "..    ...                                              ...              ...   \n",
       "842   927                          Harbin Huade University      hhdu.edu.cn   \n",
       "843   929  Heilongjiang College of Business and Technology      hibu.edu.cn   \n",
       "844   930      Dalian University of Science and Technology     dlust.edu.cn   \n",
       "845   934       West Yunnan University of Applied Sciences     wyuas.edu.cn   \n",
       "846   937     Shenyang Institute of Science and Technology     syist.edu.cn   \n",
       "\n",
       "                                                    MX    SPF   DKIM  DMARC  \\\n",
       "0        [<DNS IN MX rdata: 10 mta0.tsinghua.edu.cn.>]   True   True   True   \n",
       "1               [<DNS IN MX rdata: 0 mx1.pku.edu.cn.>]   True   True   True   \n",
       "2             [<DNS IN MX rdata: 10 mail.zju.edu.cn.>]   True  False  False   \n",
       "3            [<DNS IN MX rdata: 20 mx03.sjtu.edu.cn.>]   True  False  False   \n",
       "4    [<DNS IN MX rdata: 1 mx-fudan-edu-cn.icoremail...   True   True   True   \n",
       "..                                                 ...    ...    ...    ...   \n",
       "842          [<DNS IN MX rdata: 10 mail.hhdu.edu.cn.>]  False  False  False   \n",
       "843  [<DNS IN MX rdata: 0 hibu-edu-cn.mail.protecti...   True  False  False   \n",
       "844  [<DNS IN MX rdata: 10 hzmx02.mxmail.netease.co...   True  False   True   \n",
       "845         [<DNS IN MX rdata: 10 mail.wyuas.edu.cn.>]   True  False  False   \n",
       "846              [<DNS IN MX rdata: 5 mxbiz1.qq.com.>]  False  False  False   \n",
       "\n",
       "        auth  \n",
       "0       both  \n",
       "1       both  \n",
       "2        SPF  \n",
       "3        SPF  \n",
       "4       both  \n",
       "..       ...  \n",
       "842  Neither  \n",
       "843      SPF  \n",
       "844     both  \n",
       "845      SPF  \n",
       "846  Neither  \n",
       "\n",
       "[847 rows x 8 columns]"
      ]
     },
     "execution_count": 20,
     "metadata": {},
     "output_type": "execute_result"
    }
   ],
   "source": [
    "df"
   ]
  },
  {
   "cell_type": "code",
   "execution_count": 176,
   "id": "906e5372",
   "metadata": {},
   "outputs": [
    {
     "name": "stdout",
     "output_type": "stream",
     "text": [
      "auth\n",
      "DMARC       16\n",
      "Neither    174\n",
      "SPF        408\n",
      "both       249\n",
      "Name: University Name, dtype: int64\n"
     ]
    },
    {
     "data": {
      "image/png": "[encoded data removed]",
      "text/plain": [
       "<Figure size 432x288 with 1 Axes>"
      ]
     },
     "metadata": {},
     "output_type": "display_data"
    }
   ],
   "source": [
    "df_auth = df.groupby(['auth']).count()['University Name']\n",
    "print(df_auth)\n",
    "df_auth.plot(kind=\"pie\", y=\"Unnamed: 0\", autopct='%1.0f%%')\n",
    "plt.savefig(\"general_auth.pdf\")"
   ]
  },
  {
   "cell_type": "code",
   "execution_count": 29,
   "id": "68149051",
   "metadata": {},
   "outputs": [],
   "source": [
    "def mx(row):\n",
    "    if \"qq\" in row[\"MX\"]:\n",
    "        return \"qq\"\n",
    "    elif \"netease\" in row[\"MX\"]:\n",
    "        return \"netease\"\n",
    "    elif \"icoremail\" in row[\"MX\"]:\n",
    "        return \"coremail\"\n",
    "    elif \"163\" in row[\"MX\"]:\n",
    "        return \"netease\"\n",
    "    elif \"outlook\" in row[\"MX\"]:\n",
    "        return \"outlook\"\n",
    "    elif \"eyou\" in row[\"MX\"]:\n",
    "        return \"eyou\"\n",
    "    elif \"aliyun\" in row[\"MX\"]:\n",
    "        return \"aliyun\"\n",
    "    elif \"edu.cn\" in row[\"MX\"]:\n",
    "        return \"own server\"\n",
    "    else:\n",
    "        return \"other\"\n",
    "\n",
    "df[\"Server\"] = df.apply(lambda x: mx(x), axis=1)"
   ]
  },
  {
   "cell_type": "code",
   "execution_count": 30,
   "id": "031850d2",
   "metadata": {},
   "outputs": [
    {
     "data": {
      "text/html": [
       "<div>\n",
       "<style scoped>\n",
       "    .dataframe tbody tr th:only-of-type {\n",
       "        vertical-align: middle;\n",
       "    }\n",
       "\n",
       "    .dataframe tbody tr th {\n",
       "        vertical-align: top;\n",
       "    }\n",
       "\n",
       "    .dataframe thead th {\n",
       "        text-align: right;\n",
       "    }\n",
       "</style>\n",
       "<table border=\"1\" class=\"dataframe\">\n",
       "  <thead>\n",
       "    <tr style=\"text-align: right;\">\n",
       "      <th></th>\n",
       "      <th>Rank</th>\n",
       "      <th>University Name</th>\n",
       "      <th>Domain</th>\n",
       "      <th>MX</th>\n",
       "      <th>SPF</th>\n",
       "      <th>DKIM</th>\n",
       "      <th>DMARC</th>\n",
       "      <th>auth</th>\n",
       "      <th>Server</th>\n",
       "    </tr>\n",
       "  </thead>\n",
       "  <tbody>\n",
       "    <tr>\n",
       "      <th>0</th>\n",
       "      <td>1</td>\n",
       "      <td>Tsinghua University</td>\n",
       "      <td>tsinghua.edu.cn</td>\n",
       "      <td>[&lt;DNS IN MX rdata: 10 mta0.tsinghua.edu.cn.&gt;]</td>\n",
       "      <td>True</td>\n",
       "      <td>True</td>\n",
       "      <td>True</td>\n",
       "      <td>both</td>\n",
       "      <td>own server</td>\n",
       "    </tr>\n",
       "    <tr>\n",
       "      <th>1</th>\n",
       "      <td>2</td>\n",
       "      <td>Peking University</td>\n",
       "      <td>pku.edu.cn</td>\n",
       "      <td>[&lt;DNS IN MX rdata: 0 mx1.pku.edu.cn.&gt;]</td>\n",
       "      <td>True</td>\n",
       "      <td>True</td>\n",
       "      <td>True</td>\n",
       "      <td>both</td>\n",
       "      <td>own server</td>\n",
       "    </tr>\n",
       "    <tr>\n",
       "      <th>2</th>\n",
       "      <td>3</td>\n",
       "      <td>Zhejiang University</td>\n",
       "      <td>zju.edu.cn</td>\n",
       "      <td>[&lt;DNS IN MX rdata: 10 mail.zju.edu.cn.&gt;]</td>\n",
       "      <td>True</td>\n",
       "      <td>False</td>\n",
       "      <td>False</td>\n",
       "      <td>SPF</td>\n",
       "      <td>own server</td>\n",
       "    </tr>\n",
       "    <tr>\n",
       "      <th>3</th>\n",
       "      <td>4</td>\n",
       "      <td>Shanghai Jiao Tong University</td>\n",
       "      <td>sjtu.edu.cn</td>\n",
       "      <td>[&lt;DNS IN MX rdata: 20 mx03.sjtu.edu.cn.&gt;]</td>\n",
       "      <td>True</td>\n",
       "      <td>False</td>\n",
       "      <td>False</td>\n",
       "      <td>SPF</td>\n",
       "      <td>own server</td>\n",
       "    </tr>\n",
       "    <tr>\n",
       "      <th>4</th>\n",
       "      <td>5</td>\n",
       "      <td>Fudan University</td>\n",
       "      <td>fudan.edu.cn</td>\n",
       "      <td>[&lt;DNS IN MX rdata: 1 mx-fudan-edu-cn.icoremail...</td>\n",
       "      <td>True</td>\n",
       "      <td>True</td>\n",
       "      <td>True</td>\n",
       "      <td>both</td>\n",
       "      <td>coremail</td>\n",
       "    </tr>\n",
       "    <tr>\n",
       "      <th>...</th>\n",
       "      <td>...</td>\n",
       "      <td>...</td>\n",
       "      <td>...</td>\n",
       "      <td>...</td>\n",
       "      <td>...</td>\n",
       "      <td>...</td>\n",
       "      <td>...</td>\n",
       "      <td>...</td>\n",
       "      <td>...</td>\n",
       "    </tr>\n",
       "    <tr>\n",
       "      <th>842</th>\n",
       "      <td>927</td>\n",
       "      <td>Harbin Huade University</td>\n",
       "      <td>hhdu.edu.cn</td>\n",
       "      <td>[&lt;DNS IN MX rdata: 10 mail.hhdu.edu.cn.&gt;]</td>\n",
       "      <td>False</td>\n",
       "      <td>False</td>\n",
       "      <td>False</td>\n",
       "      <td>Neither</td>\n",
       "      <td>own server</td>\n",
       "    </tr>\n",
       "    <tr>\n",
       "      <th>843</th>\n",
       "      <td>929</td>\n",
       "      <td>Heilongjiang College of Business and Technology</td>\n",
       "      <td>hibu.edu.cn</td>\n",
       "      <td>[&lt;DNS IN MX rdata: 0 hibu-edu-cn.mail.protecti...</td>\n",
       "      <td>True</td>\n",
       "      <td>False</td>\n",
       "      <td>False</td>\n",
       "      <td>SPF</td>\n",
       "      <td>outlook</td>\n",
       "    </tr>\n",
       "    <tr>\n",
       "      <th>844</th>\n",
       "      <td>930</td>\n",
       "      <td>Dalian University of Science and Technology</td>\n",
       "      <td>dlust.edu.cn</td>\n",
       "      <td>[&lt;DNS IN MX rdata: 10 hzmx02.mxmail.netease.co...</td>\n",
       "      <td>True</td>\n",
       "      <td>False</td>\n",
       "      <td>True</td>\n",
       "      <td>both</td>\n",
       "      <td>netease</td>\n",
       "    </tr>\n",
       "    <tr>\n",
       "      <th>845</th>\n",
       "      <td>934</td>\n",
       "      <td>West Yunnan University of Applied Sciences</td>\n",
       "      <td>wyuas.edu.cn</td>\n",
       "      <td>[&lt;DNS IN MX rdata: 10 mail.wyuas.edu.cn.&gt;]</td>\n",
       "      <td>True</td>\n",
       "      <td>False</td>\n",
       "      <td>False</td>\n",
       "      <td>SPF</td>\n",
       "      <td>own server</td>\n",
       "    </tr>\n",
       "    <tr>\n",
       "      <th>846</th>\n",
       "      <td>937</td>\n",
       "      <td>Shenyang Institute of Science and Technology</td>\n",
       "      <td>syist.edu.cn</td>\n",
       "      <td>[&lt;DNS IN MX rdata: 5 mxbiz1.qq.com.&gt;]</td>\n",
       "      <td>False</td>\n",
       "      <td>False</td>\n",
       "      <td>False</td>\n",
       "      <td>Neither</td>\n",
       "      <td>qq</td>\n",
       "    </tr>\n",
       "  </tbody>\n",
       "</table>\n",
       "<p>847 rows × 9 columns</p>\n",
       "</div>"
      ],
      "text/plain": [
       "     Rank                                  University Name           Domain  \\\n",
       "0       1                              Tsinghua University  tsinghua.edu.cn   \n",
       "1       2                                Peking University       pku.edu.cn   \n",
       "2       3                              Zhejiang University       zju.edu.cn   \n",
       "3       4                    Shanghai Jiao Tong University      sjtu.edu.cn   \n",
       "4       5                                 Fudan University     fudan.edu.cn   \n",
       "..    ...                                              ...              ...   \n",
       "842   927                          Harbin Huade University      hhdu.edu.cn   \n",
       "843   929  Heilongjiang College of Business and Technology      hibu.edu.cn   \n",
       "844   930      Dalian University of Science and Technology     dlust.edu.cn   \n",
       "845   934       West Yunnan University of Applied Sciences     wyuas.edu.cn   \n",
       "846   937     Shenyang Institute of Science and Technology     syist.edu.cn   \n",
       "\n",
       "                                                    MX    SPF   DKIM  DMARC  \\\n",
       "0        [<DNS IN MX rdata: 10 mta0.tsinghua.edu.cn.>]   True   True   True   \n",
       "1               [<DNS IN MX rdata: 0 mx1.pku.edu.cn.>]   True   True   True   \n",
       "2             [<DNS IN MX rdata: 10 mail.zju.edu.cn.>]   True  False  False   \n",
       "3            [<DNS IN MX rdata: 20 mx03.sjtu.edu.cn.>]   True  False  False   \n",
       "4    [<DNS IN MX rdata: 1 mx-fudan-edu-cn.icoremail...   True   True   True   \n",
       "..                                                 ...    ...    ...    ...   \n",
       "842          [<DNS IN MX rdata: 10 mail.hhdu.edu.cn.>]  False  False  False   \n",
       "843  [<DNS IN MX rdata: 0 hibu-edu-cn.mail.protecti...   True  False  False   \n",
       "844  [<DNS IN MX rdata: 10 hzmx02.mxmail.netease.co...   True  False   True   \n",
       "845         [<DNS IN MX rdata: 10 mail.wyuas.edu.cn.>]   True  False  False   \n",
       "846              [<DNS IN MX rdata: 5 mxbiz1.qq.com.>]  False  False  False   \n",
       "\n",
       "        auth      Server  \n",
       "0       both  own server  \n",
       "1       both  own server  \n",
       "2        SPF  own server  \n",
       "3        SPF  own server  \n",
       "4       both    coremail  \n",
       "..       ...         ...  \n",
       "842  Neither  own server  \n",
       "843      SPF     outlook  \n",
       "844     both     netease  \n",
       "845      SPF  own server  \n",
       "846  Neither          qq  \n",
       "\n",
       "[847 rows x 9 columns]"
      ]
     },
     "execution_count": 30,
     "metadata": {},
     "output_type": "execute_result"
    }
   ],
   "source": [
    "df"
   ]
  },
  {
   "cell_type": "code",
   "execution_count": 75,
   "id": "2faaecb5",
   "metadata": {},
   "outputs": [
    {
     "name": "stdout",
     "output_type": "stream",
     "text": [
      "Server\n",
      "aliyun          4\n",
      "coremail       52\n",
      "eyou            8\n",
      "netease       208\n",
      "other          28\n",
      "outlook         9\n",
      "own server    183\n",
      "qq            355\n",
      "Name: University Name, dtype: int64\n"
     ]
    },
    {
     "data": {
      "image/png": "[encoded data removed]",
      "text/plain": [
       "<Figure size 432x288 with 1 Axes>"
      ]
     },
     "metadata": {},
     "output_type": "display_data"
    }
   ],
   "source": [
    "df_sev = df.groupby(['Server']).count()['University Name']\n",
    "print(df_sev)\n",
    "ax = df_sev.plot(kind=\"pie\", y=\"Unnamed: 0\", autopct='%1.0f%%')\n",
    "ax.set_ylabel(\"\")\n",
    "plt.savefig(\"general_mx.pdf\")"
   ]
  },
  {
   "cell_type": "code",
   "execution_count": 32,
   "id": "04126822",
   "metadata": {},
   "outputs": [],
   "source": [
    "df.to_csv('analysis-result.csv')"
   ]
  },
  {
   "cell_type": "code",
   "execution_count": 152,
   "id": "a46d53a0",
   "metadata": {},
   "outputs": [
    {
     "data": {
      "application/vnd.plotly.v1+json": {
       "config": {
        "plotlyServerURL": "https://plot.ly"
       },
       "data": [
        {
         "domain": {
          "x": [
           0,
           0.2888888888888889
          ],
          "y": [
           0.575,
           1
          ]
         },
         "hole": 0.4,
         "hoverinfo": "label+percent+name",
         "labels": [
          "qq",
          "netease",
          "coremail",
          "outlook",
          "eyou",
          "aliyun",
          "own server",
          "other"
         ],
         "name": "top10",
         "type": "pie",
         "values": [
          1,
          null,
          1,
          null,
          null,
          null,
          8,
          null
         ]
        },
        {
         "domain": {
          "x": [
           0.35555555555555557,
           0.6444444444444445
          ],
          "y": [
           0.575,
           1
          ]
         },
         "hole": 0.4,
         "hoverinfo": "label+percent+name",
         "labels": [
          "qq",
          "netease",
          "coremail",
          "outlook",
          "eyou",
          "aliyun",
          "own server",
          "other"
         ],
         "name": "top30",
         "type": "pie",
         "values": [
          1,
          6,
          3,
          null,
          null,
          null,
          20,
          null
         ]
        },
        {
         "domain": {
          "x": [
           0.7111111111111111,
           1
          ],
          "y": [
           0.575,
           1
          ]
         },
         "hole": 0.4,
         "hoverinfo": "label+percent+name",
         "labels": [
          "qq",
          "netease",
          "coremail",
          "outlook",
          "eyou",
          "aliyun",
          "own server",
          "other"
         ],
         "name": "top50",
         "type": "pie",
         "values": [
          4,
          8,
          4,
          null,
          null,
          null,
          33,
          1
         ]
        },
        {
         "domain": {
          "x": [
           0,
           0.2888888888888889
          ],
          "y": [
           0,
           0.425
          ]
         },
         "hole": 0.4,
         "hoverinfo": "label+percent+name",
         "labels": [
          "qq",
          "netease",
          "coremail",
          "outlook",
          "eyou",
          "aliyun",
          "own server",
          "other"
         ],
         "name": "top100",
         "type": "pie",
         "values": [
          20,
          21,
          6,
          1,
          1,
          null,
          49,
          2
         ]
        },
        {
         "domain": {
          "x": [
           0.35555555555555557,
           0.6444444444444445
          ],
          "y": [
           0,
           0.425
          ]
         },
         "hole": 0.4,
         "hoverinfo": "label+percent+name",
         "labels": [
          "qq",
          "netease",
          "coremail",
          "outlook",
          "eyou",
          "aliyun",
          "own server",
          "other"
         ],
         "name": "top300",
         "type": "pie",
         "values": [
          104,
          66,
          21,
          3,
          5,
          null,
          95,
          6
         ]
        },
        {
         "domain": {
          "x": [
           0.7111111111111111,
           1
          ],
          "y": [
           0,
           0.425
          ]
         },
         "hole": 0.4,
         "hoverinfo": "label+percent+name",
         "labels": [
          "qq",
          "netease",
          "coremail",
          "outlook",
          "eyou",
          "aliyun",
          "own server",
          "other"
         ],
         "name": "300+",
         "type": "pie",
         "values": [
          251,
          141,
          31,
          6,
          3,
          4,
          88,
          22
         ]
        }
       ],
       "layout": {
        "annotations": [
         {
          "font": {
           "size": 15
          },
          "showarrow": false,
          "text": "top10",
          "x": 0.115,
          "y": 0.825
         },
         {
          "font": {
           "size": 15
          },
          "showarrow": false,
          "text": "top30",
          "x": 0.5,
          "y": 0.825
         },
         {
          "font": {
           "size": 15
          },
          "showarrow": false,
          "text": "top50",
          "x": 0.89,
          "y": 0.825
         },
         {
          "font": {
           "size": 15
          },
          "showarrow": false,
          "text": "top100",
          "x": 0.11,
          "y": 0.185
         },
         {
          "font": {
           "size": 15
          },
          "showarrow": false,
          "text": "top300",
          "x": 0.5,
          "y": 0.185
         },
         {
          "font": {
           "size": 15
          },
          "showarrow": false,
          "text": "300+",
          "x": 0.885,
          "y": 0.185
         }
        ],
        "template": {
         "data": {
          "bar": [
           {
            "error_x": {
             "color": "#2a3f5f"
            },
            "error_y": {
             "color": "#2a3f5f"
            },
            "marker": {
             "line": {
              "color": "#E5ECF6",
              "width": 0.5
             },
             "pattern": {
              "fillmode": "overlay",
              "size": 10,
              "solidity": 0.2
             }
            },
            "type": "bar"
           }
          ],
          "barpolar": [
           {
            "marker": {
             "line": {
              "color": "#E5ECF6",
              "width": 0.5
             },
             "pattern": {
              "fillmode": "overlay",
              "size": 10,
              "solidity": 0.2
             }
            },
            "type": "barpolar"
           }
          ],
          "carpet": [
           {
            "aaxis": {
             "endlinecolor": "#2a3f5f",
             "gridcolor": "white",
             "linecolor": "white",
             "minorgridcolor": "white",
             "startlinecolor": "#2a3f5f"
            },
            "baxis": {
             "endlinecolor": "#2a3f5f",
             "gridcolor": "white",
             "linecolor": "white",
             "minorgridcolor": "white",
             "startlinecolor": "#2a3f5f"
            },
            "type": "carpet"
           }
          ],
          "choropleth": [
           {
            "colorbar": {
             "outlinewidth": 0,
             "ticks": ""
            },
            "type": "choropleth"
           }
          ],
          "contour": [
           {
            "colorbar": {
             "outlinewidth": 0,
             "ticks": ""
            },
            "colorscale": [
             [
              0,
              "#0d0887"
             ],
             [
              0.1111111111111111,
              "#46039f"
             ],
             [
              0.2222222222222222,
              "#7201a8"
             ],
             [
              0.3333333333333333,
              "#9c179e"
             ],
             [
              0.4444444444444444,
              "#bd3786"
             ],
             [
              0.5555555555555556,
              "#d8576b"
             ],
             [
              0.6666666666666666,
              "#ed7953"
             ],
             [
              0.7777777777777778,
              "#fb9f3a"
             ],
             [
              0.8888888888888888,
              "#fdca26"
             ],
             [
              1,
              "#f0f921"
             ]
            ],
            "type": "contour"
           }
          ],
          "contourcarpet": [
           {
            "colorbar": {
             "outlinewidth": 0,
             "ticks": ""
            },
            "type": "contourcarpet"
           }
          ],
          "heatmap": [
           {
            "colorbar": {
             "outlinewidth": 0,
             "ticks": ""
            },
            "colorscale": [
             [
              0,
              "#0d0887"
             ],
             [
              0.1111111111111111,
              "#46039f"
             ],
             [
              0.2222222222222222,
              "#7201a8"
             ],
             [
              0.3333333333333333,
              "#9c179e"
             ],
             [
              0.4444444444444444,
              "#bd3786"
             ],
             [
              0.5555555555555556,
              "#d8576b"
             ],
             [
              0.6666666666666666,
              "#ed7953"
             ],
             [
              0.7777777777777778,
              "#fb9f3a"
             ],
             [
              0.8888888888888888,
              "#fdca26"
             ],
             [
              1,
              "#f0f921"
             ]
            ],
            "type": "heatmap"
           }
          ],
          "heatmapgl": [
           {
            "colorbar": {
             "outlinewidth": 0,
             "ticks": ""
            },
            "colorscale": [
             [
              0,
              "#0d0887"
             ],
             [
              0.1111111111111111,
              "#46039f"
             ],
             [
              0.2222222222222222,
              "#7201a8"
             ],
             [
              0.3333333333333333,
              "#9c179e"
             ],
             [
              0.4444444444444444,
              "#bd3786"
             ],
             [
              0.5555555555555556,
              "#d8576b"
             ],
             [
              0.6666666666666666,
              "#ed7953"
             ],
             [
              0.7777777777777778,
              "#fb9f3a"
             ],
             [
              0.8888888888888888,
              "#fdca26"
             ],
             [
              1,
              "#f0f921"
             ]
            ],
            "type": "heatmapgl"
           }
          ],
          "histogram": [
           {
            "marker": {
             "pattern": {
              "fillmode": "overlay",
              "size": 10,
              "solidity": 0.2
             }
            },
            "type": "histogram"
           }
          ],
          "histogram2d": [
           {
            "colorbar": {
             "outlinewidth": 0,
             "ticks": ""
            },
            "colorscale": [
             [
              0,
              "#0d0887"
             ],
             [
              0.1111111111111111,
              "#46039f"
             ],
             [
              0.2222222222222222,
              "#7201a8"
             ],
             [
              0.3333333333333333,
              "#9c179e"
             ],
             [
              0.4444444444444444,
              "#bd3786"
             ],
             [
              0.5555555555555556,
              "#d8576b"
             ],
             [
              0.6666666666666666,
              "#ed7953"
             ],
             [
              0.7777777777777778,
              "#fb9f3a"
             ],
             [
              0.8888888888888888,
              "#fdca26"
             ],
             [
              1,
              "#f0f921"
             ]
            ],
            "type": "histogram2d"
           }
          ],
          "histogram2dcontour": [
           {
            "colorbar": {
             "outlinewidth": 0,
             "ticks": ""
            },
            "colorscale": [
             [
              0,
              "#0d0887"
             ],
             [
              0.1111111111111111,
              "#46039f"
             ],
             [
              0.2222222222222222,
              "#7201a8"
             ],
             [
              0.3333333333333333,
              "#9c179e"
             ],
             [
              0.4444444444444444,
              "#bd3786"
             ],
             [
              0.5555555555555556,
              "#d8576b"
             ],
             [
              0.6666666666666666,
              "#ed7953"
             ],
             [
              0.7777777777777778,
              "#fb9f3a"
             ],
             [
              0.8888888888888888,
              "#fdca26"
             ],
             [
              1,
              "#f0f921"
             ]
            ],
            "type": "histogram2dcontour"
           }
          ],
          "mesh3d": [
           {
            "colorbar": {
             "outlinewidth": 0,
             "ticks": ""
            },
            "type": "mesh3d"
           }
          ],
          "parcoords": [
           {
            "line": {
             "colorbar": {
              "outlinewidth": 0,
              "ticks": ""
             }
            },
            "type": "parcoords"
           }
          ],
          "pie": [
           {
            "automargin": true,
            "type": "pie"
           }
          ],
          "scatter": [
           {
            "fillpattern": {
             "fillmode": "overlay",
             "size": 10,
             "solidity": 0.2
            },
            "type": "scatter"
           }
          ],
          "scatter3d": [
           {
            "line": {
             "colorbar": {
              "outlinewidth": 0,
              "ticks": ""
             }
            },
            "marker": {
             "colorbar": {
              "outlinewidth": 0,
              "ticks": ""
             }
            },
            "type": "scatter3d"
           }
          ],
          "scattercarpet": [
           {
            "marker": {
             "colorbar": {
              "outlinewidth": 0,
              "ticks": ""
             }
            },
            "type": "scattercarpet"
           }
          ],
          "scattergeo": [
           {
            "marker": {
             "colorbar": {
              "outlinewidth": 0,
              "ticks": ""
             }
            },
            "type": "scattergeo"
           }
          ],
          "scattergl": [
           {
            "marker": {
             "colorbar": {
              "outlinewidth": 0,
              "ticks": ""
             }
            },
            "type": "scattergl"
           }
          ],
          "scattermapbox": [
           {
            "marker": {
             "colorbar": {
              "outlinewidth": 0,
              "ticks": ""
             }
            },
            "type": "scattermapbox"
           }
          ],
          "scatterpolar": [
           {
            "marker": {
             "colorbar": {
              "outlinewidth": 0,
              "ticks": ""
             }
            },
            "type": "scatterpolar"
           }
          ],
          "scatterpolargl": [
           {
            "marker": {
             "colorbar": {
              "outlinewidth": 0,
              "ticks": ""
             }
            },
            "type": "scatterpolargl"
           }
          ],
          "scatterternary": [
           {
            "marker": {
             "colorbar": {
              "outlinewidth": 0,
              "ticks": ""
             }
            },
            "type": "scatterternary"
           }
          ],
          "surface": [
           {
            "colorbar": {
             "outlinewidth": 0,
             "ticks": ""
            },
            "colorscale": [
             [
              0,
              "#0d0887"
             ],
             [
              0.1111111111111111,
              "#46039f"
             ],
             [
              0.2222222222222222,
              "#7201a8"
             ],
             [
              0.3333333333333333,
              "#9c179e"
             ],
             [
              0.4444444444444444,
              "#bd3786"
             ],
             [
              0.5555555555555556,
              "#d8576b"
             ],
             [
              0.6666666666666666,
              "#ed7953"
             ],
             [
              0.7777777777777778,
              "#fb9f3a"
             ],
             [
              0.8888888888888888,
              "#fdca26"
             ],
             [
              1,
              "#f0f921"
             ]
            ],
            "type": "surface"
           }
          ],
          "table": [
           {
            "cells": {
             "fill": {
              "color": "#EBF0F8"
             },
             "line": {
              "color": "white"
             }
            },
            "header": {
             "fill": {
              "color": "#C8D4E3"
             },
             "line": {
              "color": "white"
             }
            },
            "type": "table"
           }
          ]
         },
         "layout": {
          "annotationdefaults": {
           "arrowcolor": "#2a3f5f",
           "arrowhead": 0,
           "arrowwidth": 1
          },
          "autotypenumbers": "strict",
          "coloraxis": {
           "colorbar": {
            "outlinewidth": 0,
            "ticks": ""
           }
          },
          "colorscale": {
           "diverging": [
            [
             0,
             "#8e0152"
            ],
            [
             0.1,
             "#c51b7d"
            ],
            [
             0.2,
             "#de77ae"
            ],
            [
             0.3,
             "#f1b6da"
            ],
            [
             0.4,
             "#fde0ef"
            ],
            [
             0.5,
             "#f7f7f7"
            ],
            [
             0.6,
             "#e6f5d0"
            ],
            [
             0.7,
             "#b8e186"
            ],
            [
             0.8,
             "#7fbc41"
            ],
            [
             0.9,
             "#4d9221"
            ],
            [
             1,
             "#276419"
            ]
           ],
           "sequential": [
            [
             0,
             "#0d0887"
            ],
            [
             0.1111111111111111,
             "#46039f"
            ],
            [
             0.2222222222222222,
             "#7201a8"
            ],
            [
             0.3333333333333333,
             "#9c179e"
            ],
            [
             0.4444444444444444,
             "#bd3786"
            ],
            [
             0.5555555555555556,
             "#d8576b"
            ],
            [
             0.6666666666666666,
             "#ed7953"
            ],
            [
             0.7777777777777778,
             "#fb9f3a"
            ],
            [
             0.8888888888888888,
             "#fdca26"
            ],
            [
             1,
             "#f0f921"
            ]
           ],
           "sequentialminus": [
            [
             0,
             "#0d0887"
            ],
            [
             0.1111111111111111,
             "#46039f"
            ],
            [
             0.2222222222222222,
             "#7201a8"
            ],
            [
             0.3333333333333333,
             "#9c179e"
            ],
            [
             0.4444444444444444,
             "#bd3786"
            ],
            [
             0.5555555555555556,
             "#d8576b"
            ],
            [
             0.6666666666666666,
             "#ed7953"
            ],
            [
             0.7777777777777778,
             "#fb9f3a"
            ],
            [
             0.8888888888888888,
             "#fdca26"
            ],
            [
             1,
             "#f0f921"
            ]
           ]
          },
          "colorway": [
           "#636efa",
           "#EF553B",
           "#00cc96",
           "#ab63fa",
           "#FFA15A",
           "#19d3f3",
           "#FF6692",
           "#B6E880",
           "#FF97FF",
           "#FECB52"
          ],
          "font": {
           "color": "#2a3f5f"
          },
          "geo": {
           "bgcolor": "white",
           "lakecolor": "white",
           "landcolor": "#E5ECF6",
           "showlakes": true,
           "showland": true,
           "subunitcolor": "white"
          },
          "hoverlabel": {
           "align": "left"
          },
          "hovermode": "closest",
          "mapbox": {
           "style": "light"
          },
          "paper_bgcolor": "white",
          "plot_bgcolor": "#E5ECF6",
          "polar": {
           "angularaxis": {
            "gridcolor": "white",
            "linecolor": "white",
            "ticks": ""
           },
           "bgcolor": "#E5ECF6",
           "radialaxis": {
            "gridcolor": "white",
            "linecolor": "white",
            "ticks": ""
           }
          },
          "scene": {
           "xaxis": {
            "backgroundcolor": "#E5ECF6",
            "gridcolor": "white",
            "gridwidth": 2,
            "linecolor": "white",
            "showbackground": true,
            "ticks": "",
            "zerolinecolor": "white"
           },
           "yaxis": {
            "backgroundcolor": "#E5ECF6",
            "gridcolor": "white",
            "gridwidth": 2,
            "linecolor": "white",
            "showbackground": true,
            "ticks": "",
            "zerolinecolor": "white"
           },
           "zaxis": {
            "backgroundcolor": "#E5ECF6",
            "gridcolor": "white",
            "gridwidth": 2,
            "linecolor": "white",
            "showbackground": true,
            "ticks": "",
            "zerolinecolor": "white"
           }
          },
          "shapedefaults": {
           "line": {
            "color": "#2a3f5f"
           }
          },
          "ternary": {
           "aaxis": {
            "gridcolor": "white",
            "linecolor": "white",
            "ticks": ""
           },
           "baxis": {
            "gridcolor": "white",
            "linecolor": "white",
            "ticks": ""
           },
           "bgcolor": "#E5ECF6",
           "caxis": {
            "gridcolor": "white",
            "linecolor": "white",
            "ticks": ""
           }
          },
          "title": {
           "x": 0.05
          },
          "xaxis": {
           "automargin": true,
           "gridcolor": "white",
           "linecolor": "white",
           "ticks": "",
           "title": {
            "standoff": 15
           },
           "zerolinecolor": "white",
           "zerolinewidth": 2
          },
          "yaxis": {
           "automargin": true,
           "gridcolor": "white",
           "linecolor": "white",
           "ticks": "",
           "title": {
            "standoff": 15
           },
           "zerolinecolor": "white",
           "zerolinewidth": 2
          }
         }
        },
        "title": {
         "text": "MX record"
        }
       }
      },
      "text/html": [
       "<div>                            <div id=\"60a22c34-89c8-42b0-b2dc-69740a7a2b1f\" class=\"plotly-graph-div\" style=\"height:525px; width:100%;\"></div>            <script type=\"text/javascript\">                require([\"plotly\"], function(Plotly) {                    window.PLOTLYENV=window.PLOTLYENV || {};                                    if (document.getElementById(\"60a22c34-89c8-42b0-b2dc-69740a7a2b1f\")) {                    Plotly.newPlot(                        \"60a22c34-89c8-42b0-b2dc-69740a7a2b1f\",                        [{\"labels\":[\"qq\",\"netease\",\"coremail\",\"outlook\",\"eyou\",\"aliyun\",\"own server\",\"other\"],\"name\":\"top10\",\"values\":[1,null,1,null,null,null,8,null],\"type\":\"pie\",\"domain\":{\"x\":[0.0,0.2888888888888889],\"y\":[0.575,1.0]},\"hole\":0.4,\"hoverinfo\":\"label+percent+name\"},{\"labels\":[\"qq\",\"netease\",\"coremail\",\"outlook\",\"eyou\",\"aliyun\",\"own server\",\"other\"],\"name\":\"top30\",\"values\":[1,6,3,null,null,null,20,null],\"type\":\"pie\",\"domain\":{\"x\":[0.35555555555555557,0.6444444444444445],\"y\":[0.575,1.0]},\"hole\":0.4,\"hoverinfo\":\"label+percent+name\"},{\"labels\":[\"qq\",\"netease\",\"coremail\",\"outlook\",\"eyou\",\"aliyun\",\"own server\",\"other\"],\"name\":\"top50\",\"values\":[4,8,4,null,null,null,33,1],\"type\":\"pie\",\"domain\":{\"x\":[0.7111111111111111,1.0],\"y\":[0.575,1.0]},\"hole\":0.4,\"hoverinfo\":\"label+percent+name\"},{\"labels\":[\"qq\",\"netease\",\"coremail\",\"outlook\",\"eyou\",\"aliyun\",\"own server\",\"other\"],\"name\":\"top100\",\"values\":[20,21,6,1,1,null,49,2],\"type\":\"pie\",\"domain\":{\"x\":[0.0,0.2888888888888889],\"y\":[0.0,0.425]},\"hole\":0.4,\"hoverinfo\":\"label+percent+name\"},{\"labels\":[\"qq\",\"netease\",\"coremail\",\"outlook\",\"eyou\",\"aliyun\",\"own server\",\"other\"],\"name\":\"top300\",\"values\":[104,66,21,3,5,null,95,6],\"type\":\"pie\",\"domain\":{\"x\":[0.35555555555555557,0.6444444444444445],\"y\":[0.0,0.425]},\"hole\":0.4,\"hoverinfo\":\"label+percent+name\"},{\"labels\":[\"qq\",\"netease\",\"coremail\",\"outlook\",\"eyou\",\"aliyun\",\"own server\",\"other\"],\"name\":\"300+\",\"values\":[251,141,31,6,3,4,88,22],\"type\":\"pie\",\"domain\":{\"x\":[0.7111111111111111,1.0],\"y\":[0.0,0.425]},\"hole\":0.4,\"hoverinfo\":\"label+percent+name\"}],                        {\"template\":{\"data\":{\"histogram2dcontour\":[{\"type\":\"histogram2dcontour\",\"colorbar\":{\"outlinewidth\":0,\"ticks\":\"\"},\"colorscale\":[[0.0,\"#0d0887\"],[0.1111111111111111,\"#46039f\"],[0.2222222222222222,\"#7201a8\"],[0.3333333333333333,\"#9c179e\"],[0.4444444444444444,\"#bd3786\"],[0.5555555555555556,\"#d8576b\"],[0.6666666666666666,\"#ed7953\"],[0.7777777777777778,\"#fb9f3a\"],[0.8888888888888888,\"#fdca26\"],[1.0,\"#f0f921\"]]}],\"choropleth\":[{\"type\":\"choropleth\",\"colorbar\":{\"outlinewidth\":0,\"ticks\":\"\"}}],\"histogram2d\":[{\"type\":\"histogram2d\",\"colorbar\":{\"outlinewidth\":0,\"ticks\":\"\"},\"colorscale\":[[0.0,\"#0d0887\"],[0.1111111111111111,\"#46039f\"],[0.2222222222222222,\"#7201a8\"],[0.3333333333333333,\"#9c179e\"],[0.4444444444444444,\"#bd3786\"],[0.5555555555555556,\"#d8576b\"],[0.6666666666666666,\"#ed7953\"],[0.7777777777777778,\"#fb9f3a\"],[0.8888888888888888,\"#fdca26\"],[1.0,\"#f0f921\"]]}],\"heatmap\":[{\"type\":\"heatmap\",\"colorbar\":{\"outlinewidth\":0,\"ticks\":\"\"},\"colorscale\":[[0.0,\"#0d0887\"],[0.1111111111111111,\"#46039f\"],[0.2222222222222222,\"#7201a8\"],[0.3333333333333333,\"#9c179e\"],[0.4444444444444444,\"#bd3786\"],[0.5555555555555556,\"#d8576b\"],[0.6666666666666666,\"#ed7953\"],[0.7777777777777778,\"#fb9f3a\"],[0.8888888888888888,\"#fdca26\"],[1.0,\"#f0f921\"]]}],\"heatmapgl\":[{\"type\":\"heatmapgl\",\"colorbar\":{\"outlinewidth\":0,\"ticks\":\"\"},\"colorscale\":[[0.0,\"#0d0887\"],[0.1111111111111111,\"#46039f\"],[0.2222222222222222,\"#7201a8\"],[0.3333333333333333,\"#9c179e\"],[0.4444444444444444,\"#bd3786\"],[0.5555555555555556,\"#d8576b\"],[0.6666666666666666,\"#ed7953\"],[0.7777777777777778,\"#fb9f3a\"],[0.8888888888888888,\"#fdca26\"],[1.0,\"#f0f921\"]]}],\"contourcarpet\":[{\"type\":\"contourcarpet\",\"colorbar\":{\"outlinewidth\":0,\"ticks\":\"\"}}],\"contour\":[{\"type\":\"contour\",\"colorbar\":{\"outlinewidth\":0,\"ticks\":\"\"},\"colorscale\":[[0.0,\"#0d0887\"],[0.1111111111111111,\"#46039f\"],[0.2222222222222222,\"#7201a8\"],[0.3333333333333333,\"#9c179e\"],[0.4444444444444444,\"#bd3786\"],[0.5555555555555556,\"#d8576b\"],[0.6666666666666666,\"#ed7953\"],[0.7777777777777778,\"#fb9f3a\"],[0.8888888888888888,\"#fdca26\"],[1.0,\"#f0f921\"]]}],\"surface\":[{\"type\":\"surface\",\"colorbar\":{\"outlinewidth\":0,\"ticks\":\"\"},\"colorscale\":[[0.0,\"#0d0887\"],[0.1111111111111111,\"#46039f\"],[0.2222222222222222,\"#7201a8\"],[0.3333333333333333,\"#9c179e\"],[0.4444444444444444,\"#bd3786\"],[0.5555555555555556,\"#d8576b\"],[0.6666666666666666,\"#ed7953\"],[0.7777777777777778,\"#fb9f3a\"],[0.8888888888888888,\"#fdca26\"],[1.0,\"#f0f921\"]]}],\"mesh3d\":[{\"type\":\"mesh3d\",\"colorbar\":{\"outlinewidth\":0,\"ticks\":\"\"}}],\"scatter\":[{\"fillpattern\":{\"fillmode\":\"overlay\",\"size\":10,\"solidity\":0.2},\"type\":\"scatter\"}],\"parcoords\":[{\"type\":\"parcoords\",\"line\":{\"colorbar\":{\"outlinewidth\":0,\"ticks\":\"\"}}}],\"scatterpolargl\":[{\"type\":\"scatterpolargl\",\"marker\":{\"colorbar\":{\"outlinewidth\":0,\"ticks\":\"\"}}}],\"bar\":[{\"error_x\":{\"color\":\"#2a3f5f\"},\"error_y\":{\"color\":\"#2a3f5f\"},\"marker\":{\"line\":{\"color\":\"#E5ECF6\",\"width\":0.5},\"pattern\":{\"fillmode\":\"overlay\",\"size\":10,\"solidity\":0.2}},\"type\":\"bar\"}],\"scattergeo\":[{\"type\":\"scattergeo\",\"marker\":{\"colorbar\":{\"outlinewidth\":0,\"ticks\":\"\"}}}],\"scatterpolar\":[{\"type\":\"scatterpolar\",\"marker\":{\"colorbar\":{\"outlinewidth\":0,\"ticks\":\"\"}}}],\"histogram\":[{\"marker\":{\"pattern\":{\"fillmode\":\"overlay\",\"size\":10,\"solidity\":0.2}},\"type\":\"histogram\"}],\"scattergl\":[{\"type\":\"scattergl\",\"marker\":{\"colorbar\":{\"outlinewidth\":0,\"ticks\":\"\"}}}],\"scatter3d\":[{\"type\":\"scatter3d\",\"line\":{\"colorbar\":{\"outlinewidth\":0,\"ticks\":\"\"}},\"marker\":{\"colorbar\":{\"outlinewidth\":0,\"ticks\":\"\"}}}],\"scattermapbox\":[{\"type\":\"scattermapbox\",\"marker\":{\"colorbar\":{\"outlinewidth\":0,\"ticks\":\"\"}}}],\"scatterternary\":[{\"type\":\"scatterternary\",\"marker\":{\"colorbar\":{\"outlinewidth\":0,\"ticks\":\"\"}}}],\"scattercarpet\":[{\"type\":\"scattercarpet\",\"marker\":{\"colorbar\":{\"outlinewidth\":0,\"ticks\":\"\"}}}],\"carpet\":[{\"aaxis\":{\"endlinecolor\":\"#2a3f5f\",\"gridcolor\":\"white\",\"linecolor\":\"white\",\"minorgridcolor\":\"white\",\"startlinecolor\":\"#2a3f5f\"},\"baxis\":{\"endlinecolor\":\"#2a3f5f\",\"gridcolor\":\"white\",\"linecolor\":\"white\",\"minorgridcolor\":\"white\",\"startlinecolor\":\"#2a3f5f\"},\"type\":\"carpet\"}],\"table\":[{\"cells\":{\"fill\":{\"color\":\"#EBF0F8\"},\"line\":{\"color\":\"white\"}},\"header\":{\"fill\":{\"color\":\"#C8D4E3\"},\"line\":{\"color\":\"white\"}},\"type\":\"table\"}],\"barpolar\":[{\"marker\":{\"line\":{\"color\":\"#E5ECF6\",\"width\":0.5},\"pattern\":{\"fillmode\":\"overlay\",\"size\":10,\"solidity\":0.2}},\"type\":\"barpolar\"}],\"pie\":[{\"automargin\":true,\"type\":\"pie\"}]},\"layout\":{\"autotypenumbers\":\"strict\",\"colorway\":[\"#636efa\",\"#EF553B\",\"#00cc96\",\"#ab63fa\",\"#FFA15A\",\"#19d3f3\",\"#FF6692\",\"#B6E880\",\"#FF97FF\",\"#FECB52\"],\"font\":{\"color\":\"#2a3f5f\"},\"hovermode\":\"closest\",\"hoverlabel\":{\"align\":\"left\"},\"paper_bgcolor\":\"white\",\"plot_bgcolor\":\"#E5ECF6\",\"polar\":{\"bgcolor\":\"#E5ECF6\",\"angularaxis\":{\"gridcolor\":\"white\",\"linecolor\":\"white\",\"ticks\":\"\"},\"radialaxis\":{\"gridcolor\":\"white\",\"linecolor\":\"white\",\"ticks\":\"\"}},\"ternary\":{\"bgcolor\":\"#E5ECF6\",\"aaxis\":{\"gridcolor\":\"white\",\"linecolor\":\"white\",\"ticks\":\"\"},\"baxis\":{\"gridcolor\":\"white\",\"linecolor\":\"white\",\"ticks\":\"\"},\"caxis\":{\"gridcolor\":\"white\",\"linecolor\":\"white\",\"ticks\":\"\"}},\"coloraxis\":{\"colorbar\":{\"outlinewidth\":0,\"ticks\":\"\"}},\"colorscale\":{\"sequential\":[[0.0,\"#0d0887\"],[0.1111111111111111,\"#46039f\"],[0.2222222222222222,\"#7201a8\"],[0.3333333333333333,\"#9c179e\"],[0.4444444444444444,\"#bd3786\"],[0.5555555555555556,\"#d8576b\"],[0.6666666666666666,\"#ed7953\"],[0.7777777777777778,\"#fb9f3a\"],[0.8888888888888888,\"#fdca26\"],[1.0,\"#f0f921\"]],\"sequentialminus\":[[0.0,\"#0d0887\"],[0.1111111111111111,\"#46039f\"],[0.2222222222222222,\"#7201a8\"],[0.3333333333333333,\"#9c179e\"],[0.4444444444444444,\"#bd3786\"],[0.5555555555555556,\"#d8576b\"],[0.6666666666666666,\"#ed7953\"],[0.7777777777777778,\"#fb9f3a\"],[0.8888888888888888,\"#fdca26\"],[1.0,\"#f0f921\"]],\"diverging\":[[0,\"#8e0152\"],[0.1,\"#c51b7d\"],[0.2,\"#de77ae\"],[0.3,\"#f1b6da\"],[0.4,\"#fde0ef\"],[0.5,\"#f7f7f7\"],[0.6,\"#e6f5d0\"],[0.7,\"#b8e186\"],[0.8,\"#7fbc41\"],[0.9,\"#4d9221\"],[1,\"#276419\"]]},\"xaxis\":{\"gridcolor\":\"white\",\"linecolor\":\"white\",\"ticks\":\"\",\"title\":{\"standoff\":15},\"zerolinecolor\":\"white\",\"automargin\":true,\"zerolinewidth\":2},\"yaxis\":{\"gridcolor\":\"white\",\"linecolor\":\"white\",\"ticks\":\"\",\"title\":{\"standoff\":15},\"zerolinecolor\":\"white\",\"automargin\":true,\"zerolinewidth\":2},\"scene\":{\"xaxis\":{\"backgroundcolor\":\"#E5ECF6\",\"gridcolor\":\"white\",\"linecolor\":\"white\",\"showbackground\":true,\"ticks\":\"\",\"zerolinecolor\":\"white\",\"gridwidth\":2},\"yaxis\":{\"backgroundcolor\":\"#E5ECF6\",\"gridcolor\":\"white\",\"linecolor\":\"white\",\"showbackground\":true,\"ticks\":\"\",\"zerolinecolor\":\"white\",\"gridwidth\":2},\"zaxis\":{\"backgroundcolor\":\"#E5ECF6\",\"gridcolor\":\"white\",\"linecolor\":\"white\",\"showbackground\":true,\"ticks\":\"\",\"zerolinecolor\":\"white\",\"gridwidth\":2}},\"shapedefaults\":{\"line\":{\"color\":\"#2a3f5f\"}},\"annotationdefaults\":{\"arrowcolor\":\"#2a3f5f\",\"arrowhead\":0,\"arrowwidth\":1},\"geo\":{\"bgcolor\":\"white\",\"landcolor\":\"#E5ECF6\",\"subunitcolor\":\"white\",\"showland\":true,\"showlakes\":true,\"lakecolor\":\"white\"},\"title\":{\"x\":0.05},\"mapbox\":{\"style\":\"light\"}}},\"title\":{\"text\":\"MX record\"},\"annotations\":[{\"showarrow\":false,\"text\":\"top10\",\"x\":0.115,\"y\":0.825,\"font\":{\"size\":15}},{\"showarrow\":false,\"text\":\"top30\",\"x\":0.5,\"y\":0.825,\"font\":{\"size\":15}},{\"showarrow\":false,\"text\":\"top50\",\"x\":0.89,\"y\":0.825,\"font\":{\"size\":15}},{\"showarrow\":false,\"text\":\"top100\",\"x\":0.11,\"y\":0.185,\"font\":{\"size\":15}},{\"showarrow\":false,\"text\":\"top300\",\"x\":0.5,\"y\":0.185,\"font\":{\"size\":15}},{\"showarrow\":false,\"text\":\"300+\",\"x\":0.885,\"y\":0.185,\"font\":{\"size\":15}}]},                        {\"responsive\": true}                    ).then(function(){\n",
       "                            \n",
       "var gd = document.getElementById('60a22c34-89c8-42b0-b2dc-69740a7a2b1f');\n",
       "var x = new MutationObserver(function (mutations, observer) {{\n",
       "        var display = window.getComputedStyle(gd).display;\n",
       "        if (!display || display === 'none') {{\n",
       "            console.log([gd, 'removed!']);\n",
       "            Plotly.purge(gd);\n",
       "            observer.disconnect();\n",
       "        }}\n",
       "}});\n",
       "\n",
       "// Listen for the removal of the full notebook cells\n",
       "var notebookContainer = gd.closest('#notebook-container');\n",
       "if (notebookContainer) {{\n",
       "    x.observe(notebookContainer, {childList: true});\n",
       "}}\n",
       "\n",
       "// Listen for the clearing of the current output cell\n",
       "var outputEl = gd.closest('.output');\n",
       "if (outputEl) {{\n",
       "    x.observe(outputEl, {childList: true});\n",
       "}}\n",
       "\n",
       "                        })                };                });            </script>        </div>"
      ]
     },
     "metadata": {},
     "output_type": "display_data"
    }
   ],
   "source": [
    "df_sev1 = dict(df[0:10].groupby(['Server']).count()['University Name'])\n",
    "df_sev2 = dict(df[0:30].groupby(['Server']).count()['University Name'])\n",
    "df_sev3 = dict(df[0:50].groupby(['Server']).count()['University Name'])\n",
    "df_sev4 = dict(df[0:100].groupby(['Server']).count()['University Name'])\n",
    "df_sev5 = dict(df[0:300].groupby(['Server']).count()['University Name'])\n",
    "df_sev6 = dict(df[301:len(df)].groupby(['Server']).count()['University Name'])\n",
    "\n",
    "labels = [\"qq\", \"netease\", \"coremail\", \"outlook\", \"eyou\", \"aliyun\", \"own server\", \"other\"]\n",
    "\n",
    "# Create subplots: use 'domain' type for Pie subplot\n",
    "fig = make_subplots(rows=2, cols=3, specs=[[{'type':'domain'}, {'type':'domain'}, {'type':'domain'}],\n",
    "                                          [{'type':'domain'}, {'type':'domain'}, {'type':'domain'}]])\n",
    "\n",
    "fig.add_trace(go.Pie(labels=labels, values=[df_sev1.get(\"qq\"), df_sev1.get(\"netease\"), \n",
    "                                            df_sev1.get(\"coremail\"), df_sev1.get(\"outlook\")\n",
    "                                           , df_sev1.get(\"eyou\"), df_sev1.get(\"aliyun\")\n",
    "                                           , df_sev1.get(\"own server\"), df_sev1.get(\"other\")], name=\"top10\"), 1, 1)\n",
    "fig.add_trace(go.Pie(labels=labels, values=[df_sev2.get(\"qq\"), df_sev2.get(\"netease\"), \n",
    "                                            df_sev2.get(\"coremail\"), df_sev2.get(\"outlook\")\n",
    "                                           , df_sev2.get(\"eyou\"), df_sev2.get(\"aliyun\")\n",
    "                                           , df_sev2.get(\"own server\"), df_sev2.get(\"other\")], name=\"top30\"), 1, 2)\n",
    "fig.add_trace(go.Pie(labels=labels, values=[df_sev3.get(\"qq\"), df_sev3.get(\"netease\"), \n",
    "                                            df_sev3.get(\"coremail\"), df_sev3.get(\"outlook\")\n",
    "                                           , df_sev3.get(\"eyou\"), df_sev3.get(\"aliyun\")\n",
    "                                           , df_sev3.get(\"own server\"), df_sev3.get(\"other\")], name=\"top50\"), 1, 3)\n",
    "fig.add_trace(go.Pie(labels=labels, values=[df_sev4.get(\"qq\"), df_sev4.get(\"netease\"), \n",
    "                                            df_sev4.get(\"coremail\"), df_sev4.get(\"outlook\")\n",
    "                                           , df_sev4.get(\"eyou\"), df_sev4.get(\"aliyun\")\n",
    "                                           , df_sev4.get(\"own server\"), df_sev4.get(\"other\")], name=\"top100\"), 2, 1)\n",
    "fig.add_trace(go.Pie(labels=labels, values=[df_sev5.get(\"qq\"), df_sev5.get(\"netease\"), \n",
    "                                            df_sev5.get(\"coremail\"), df_sev5.get(\"outlook\")\n",
    "                                           , df_sev5.get(\"eyou\"), df_sev5.get(\"aliyun\")\n",
    "                                           , df_sev5.get(\"own server\"), df_sev5.get(\"other\")], name=\"top300\"), 2, 2)\n",
    "fig.add_trace(go.Pie(labels=labels, values=[df_sev6.get(\"qq\"), df_sev6.get(\"netease\"), \n",
    "                                            df_sev6.get(\"coremail\"), df_sev6.get(\"outlook\")\n",
    "                                           , df_sev6.get(\"eyou\"), df_sev6.get(\"aliyun\")\n",
    "                                           , df_sev6.get(\"own server\"), df_sev6.get(\"other\")], name=\"300+\"), 2, 3)\n",
    "fig.update_traces(hole=.4, hoverinfo=\"label+percent+name\")\n",
    "fig.update_layout(\n",
    "    title_text=\"MX record\",\n",
    "    # Add annotations in the center of the donut pies.\n",
    "    annotations=[dict(text='top10', x=0.115, y=0.825, font_size=15, showarrow=False),\n",
    "                 dict(text='top30', x=0.5, y=0.825, font_size=15, showarrow=False),\n",
    "                 dict(text='top50', x=0.89, y=0.825, font_size=15, showarrow=False),\n",
    "                 dict(text='top100', x=0.11, y=0.185, font_size=15, showarrow=False),\n",
    "                 dict(text='top300', x=0.5, y=0.185, font_size=15, showarrow=False),\n",
    "                 dict(text='300+', x=0.885, y=0.185, font_size=15, showarrow=False),])\n",
    "fig.show()"
   ]
  },
  {
   "cell_type": "code",
   "execution_count": 172,
   "id": "fd49e308",
   "metadata": {},
   "outputs": [
    {
     "data": {
      "image/png": "[encoded data removed]",
      "text/plain": [
       "<Figure size 432x288 with 6 Axes>"
      ]
     },
     "metadata": {},
     "output_type": "display_data"
    }
   ],
   "source": [
    "df_sev1 = df[0:10].groupby(['SPF']).count()['University Name']\n",
    "df_sev2 = df[0:30].groupby(['SPF']).count()['University Name']\n",
    "df_sev3 = df[0:50].groupby(['SPF']).count()['University Name']\n",
    "df_sev4 = df[0:100].groupby(['SPF']).count()['University Name']\n",
    "df_sev5 = df[0:300].groupby(['SPF']).count()['University Name']\n",
    "df_sev6 = df[301:len(df)].groupby(['SPF']).count()['University Name']\n",
    "\n",
    "\n",
    "fig1 = plt.figure()\n",
    "ax1 = fig1.add_subplot(231)\n",
    "ax2 = fig1.add_subplot(232)\n",
    "ax3 = fig1.add_subplot(233)\n",
    "ax4 = fig1.add_subplot(234)\n",
    "ax5 = fig1.add_subplot(235)\n",
    "ax6 = fig1.add_subplot(236)\n",
    "\n",
    "\n",
    "plot1 = df_sev1.plot(kind=\"pie\", y=\"Unnamed: 0\", autopct='%1.0f%%', ax=ax1, colors=['#ff7f0e'])\n",
    "plot1.set_ylabel(\"\")\n",
    "plot1.set_xlabel(\"top10_spf\")\n",
    "\n",
    "plot2 = df_sev2.plot(kind=\"pie\", y=\"Unnamed: 0\", autopct='%1.0f%%', ax=ax2)\n",
    "plot2.set_ylabel(\"\")\n",
    "plot2.set_xlabel(\"top30_spf\")\n",
    "\n",
    "plot3 = df_sev3.plot(kind=\"pie\", y=\"Unnamed: 0\", autopct='%1.0f%%', ax=ax3)\n",
    "plot3.set_ylabel(\"\")\n",
    "plot3.set_xlabel(\"top50_spf\")\n",
    "\n",
    "plot4 = df_sev4.plot(kind=\"pie\", y=\"Unnamed: 0\", autopct='%1.0f%%', ax=ax4)\n",
    "plot4.set_ylabel(\"\")\n",
    "plot4.set_xlabel(\"top100_spf\")\n",
    "\n",
    "plot5 = df_sev5.plot(kind=\"pie\", y=\"Unnamed: 0\", autopct='%1.0f%%', ax=ax5)\n",
    "plot5.set_ylabel(\"\")\n",
    "plot5.set_xlabel(\"top300_spf\")\n",
    "\n",
    "plot6 = df_sev6.plot(kind=\"pie\", y=\"Unnamed: 0\", autopct='%1.0f%%', ax=ax6)\n",
    "plot6.set_ylabel(\"\")\n",
    "plot6.set_xlabel(\"300+_spf\")\n",
    "\n",
    "plt.savefig(\"spf.pdf\")"
   ]
  },
  {
   "cell_type": "code",
   "execution_count": 88,
   "id": "14abae88",
   "metadata": {},
   "outputs": [
    {
     "name": "stdout",
     "output_type": "stream",
     "text": [
      "SPF\n",
      "False    190\n",
      "True     657\n",
      "Name: University Name, dtype: int64\n"
     ]
    },
    {
     "data": {
      "image/png": "[encoded data removed]",
      "text/plain": [
       "<Figure size 432x288 with 1 Axes>"
      ]
     },
     "metadata": {},
     "output_type": "display_data"
    }
   ],
   "source": [
    "df_spf = df.groupby(['SPF']).count()['University Name']\n",
    "print(df_spf)\n",
    "ax = df_spf.plot(kind=\"pie\", y=\"Unnamed: 0\", autopct='%1.0f%%')\n",
    "ax.set_ylabel(\"\")\n",
    "plt.savefig(\"general_spf.pdf\")"
   ]
  },
  {
   "cell_type": "code",
   "execution_count": 173,
   "id": "a9577d5d",
   "metadata": {},
   "outputs": [
    {
     "name": "stdout",
     "output_type": "stream",
     "text": [
      "DMARC\n",
      "False    582\n",
      "True     265\n",
      "Name: University Name, dtype: int64\n"
     ]
    },
    {
     "data": {
      "image/png": "[encoded data removed]",
      "text/plain": [
       "<Figure size 432x288 with 1 Axes>"
      ]
     },
     "metadata": {},
     "output_type": "display_data"
    }
   ],
   "source": [
    "df_dmarc = df.groupby(['DMARC']).count()['University Name']\n",
    "print(df_dmarc)\n",
    "ax = df_dmarc.plot(kind=\"pie\", y=\"Unnamed: 0\", autopct='%1.0f%%')\n",
    "ax.set_ylabel(\"\")\n",
    "plt.savefig(\"general_dmarc.pdf\")"
   ]
  },
  {
   "cell_type": "code",
   "execution_count": 175,
   "id": "6b9fffec",
   "metadata": {},
   "outputs": [
    {
     "data": {
      "image/png": "[encoded data removed]",
      "text/plain": [
       "<Figure size 432x288 with 6 Axes>"
      ]
     },
     "metadata": {},
     "output_type": "display_data"
    }
   ],
   "source": [
    "df_sev1 = df[0:10].groupby(['DMARC']).count()['University Name']\n",
    "df_sev2 = df[0:30].groupby(['DMARC']).count()['University Name']\n",
    "df_sev3 = df[0:50].groupby(['DMARC']).count()['University Name']\n",
    "df_sev4 = df[0:100].groupby(['DMARC']).count()['University Name']\n",
    "df_sev5 = df[0:300].groupby(['DMARC']).count()['University Name']\n",
    "df_sev6 = df[301:len(df)].groupby(['DMARC']).count()['University Name']\n",
    "\n",
    "\n",
    "fig1 = plt.figure()\n",
    "ax1 = fig1.add_subplot(231)\n",
    "ax2 = fig1.add_subplot(232)\n",
    "ax3 = fig1.add_subplot(233)\n",
    "ax4 = fig1.add_subplot(234)\n",
    "ax5 = fig1.add_subplot(235)\n",
    "ax6 = fig1.add_subplot(236)\n",
    "\n",
    "\n",
    "plot1 = df_sev1.plot(kind=\"pie\", y=\"Unnamed: 0\", autopct='%1.0f%%', ax=ax1)\n",
    "plot1.set_ylabel(\"\")\n",
    "plot1.set_xlabel(\"top10_dmarc\")\n",
    "\n",
    "plot2 = df_sev2.plot(kind=\"pie\", y=\"Unnamed: 0\", autopct='%1.0f%%', ax=ax2)\n",
    "plot2.set_ylabel(\"\")\n",
    "plot2.set_xlabel(\"top30_dmarc\")\n",
    "\n",
    "plot3 = df_sev3.plot(kind=\"pie\", y=\"Unnamed: 0\", autopct='%1.0f%%', ax=ax3)\n",
    "plot3.set_ylabel(\"\")\n",
    "plot3.set_xlabel(\"top50_dmarc\")\n",
    "\n",
    "plot4 = df_sev4.plot(kind=\"pie\", y=\"Unnamed: 0\", autopct='%1.0f%%', ax=ax4)\n",
    "plot4.set_ylabel(\"\")\n",
    "plot4.set_xlabel(\"top100_dmarc\")\n",
    "\n",
    "plot5 = df_sev5.plot(kind=\"pie\", y=\"Unnamed: 0\", autopct='%1.0f%%', ax=ax5)\n",
    "plot5.set_ylabel(\"\")\n",
    "plot5.set_xlabel(\"top300_dmarc\")\n",
    "\n",
    "plot6 = df_sev6.plot(kind=\"pie\", y=\"Unnamed: 0\", autopct='%1.0f%%', ax=ax6)\n",
    "plot6.set_ylabel(\"\")\n",
    "plot6.set_xlabel(\"300+_dmarc\")\n",
    "\n",
    "plt.savefig(\"dmarc.pdf\")"
   ]
  },
  {
   "cell_type": "code",
   "execution_count": 182,
   "id": "5bbbd1ba",
   "metadata": {},
   "outputs": [
    {
     "data": {
      "application/vnd.plotly.v1+json": {
       "config": {
        "plotlyServerURL": "https://plot.ly"
       },
       "data": [
        {
         "domain": {
          "x": [
           0,
           0.2888888888888889
          ],
          "y": [
           0.575,
           1
          ]
         },
         "hole": 0.4,
         "hoverinfo": "label+percent+name",
         "labels": [
          "SPF",
          "DMARC",
          "Both",
          "Neither"
         ],
         "name": "top10",
         "type": "pie",
         "values": [
          5,
          null,
          5,
          null
         ]
        },
        {
         "domain": {
          "x": [
           0.35555555555555557,
           0.6444444444444445
          ],
          "y": [
           0.575,
           1
          ]
         },
         "hole": 0.4,
         "hoverinfo": "label+percent+name",
         "labels": [
          "SPF",
          "DMARC",
          "Both",
          "Neither"
         ],
         "name": "top30",
         "type": "pie",
         "values": [
          14,
          1,
          15,
          null
         ]
        },
        {
         "domain": {
          "x": [
           0.7111111111111111,
           1
          ],
          "y": [
           0.575,
           1
          ]
         },
         "hole": 0.4,
         "hoverinfo": "label+percent+name",
         "labels": [
          "SPF",
          "DMARC",
          "Both",
          "Neither"
         ],
         "name": "top50",
         "type": "pie",
         "values": [
          26,
          2,
          21,
          1
         ]
        },
        {
         "domain": {
          "x": [
           0,
           0.2888888888888889
          ],
          "y": [
           0,
           0.425
          ]
         },
         "hole": 0.4,
         "hoverinfo": "label+percent+name",
         "labels": [
          "SPF",
          "DMARC",
          "Both",
          "Neither"
         ],
         "name": "top100",
         "type": "pie",
         "values": [
          58,
          3,
          36,
          3
         ]
        },
        {
         "domain": {
          "x": [
           0.35555555555555557,
           0.6444444444444445
          ],
          "y": [
           0,
           0.425
          ]
         },
         "hole": 0.4,
         "hoverinfo": "label+percent+name",
         "labels": [
          "SPF",
          "DMARC",
          "Both",
          "Neither"
         ],
         "name": "top300",
         "type": "pie",
         "values": [
          168,
          3,
          101,
          28
         ]
        },
        {
         "domain": {
          "x": [
           0.7111111111111111,
           1
          ],
          "y": [
           0,
           0.425
          ]
         },
         "hole": 0.4,
         "hoverinfo": "label+percent+name",
         "labels": [
          "SPF",
          "DMARC",
          "Both",
          "Neither"
         ],
         "name": "300+",
         "type": "pie",
         "values": [
          240,
          13,
          147,
          146
         ]
        }
       ],
       "layout": {
        "annotations": [
         {
          "font": {
           "size": 15
          },
          "showarrow": false,
          "text": "top10",
          "x": 0.115,
          "y": 0.825
         },
         {
          "font": {
           "size": 15
          },
          "showarrow": false,
          "text": "top30",
          "x": 0.5,
          "y": 0.825
         },
         {
          "font": {
           "size": 15
          },
          "showarrow": false,
          "text": "top50",
          "x": 0.89,
          "y": 0.825
         },
         {
          "font": {
           "size": 15
          },
          "showarrow": false,
          "text": "top100",
          "x": 0.11,
          "y": 0.185
         },
         {
          "font": {
           "size": 15
          },
          "showarrow": false,
          "text": "top300",
          "x": 0.5,
          "y": 0.185
         },
         {
          "font": {
           "size": 15
          },
          "showarrow": false,
          "text": "300+",
          "x": 0.885,
          "y": 0.185
         }
        ],
        "template": {
         "data": {
          "bar": [
           {
            "error_x": {
             "color": "#2a3f5f"
            },
            "error_y": {
             "color": "#2a3f5f"
            },
            "marker": {
             "line": {
              "color": "#E5ECF6",
              "width": 0.5
             },
             "pattern": {
              "fillmode": "overlay",
              "size": 10,
              "solidity": 0.2
             }
            },
            "type": "bar"
           }
          ],
          "barpolar": [
           {
            "marker": {
             "line": {
              "color": "#E5ECF6",
              "width": 0.5
             },
             "pattern": {
              "fillmode": "overlay",
              "size": 10,
              "solidity": 0.2
             }
            },
            "type": "barpolar"
           }
          ],
          "carpet": [
           {
            "aaxis": {
             "endlinecolor": "#2a3f5f",
             "gridcolor": "white",
             "linecolor": "white",
             "minorgridcolor": "white",
             "startlinecolor": "#2a3f5f"
            },
            "baxis": {
             "endlinecolor": "#2a3f5f",
             "gridcolor": "white",
             "linecolor": "white",
             "minorgridcolor": "white",
             "startlinecolor": "#2a3f5f"
            },
            "type": "carpet"
           }
          ],
          "choropleth": [
           {
            "colorbar": {
             "outlinewidth": 0,
             "ticks": ""
            },
            "type": "choropleth"
           }
          ],
          "contour": [
           {
            "colorbar": {
             "outlinewidth": 0,
             "ticks": ""
            },
            "colorscale": [
             [
              0,
              "#0d0887"
             ],
             [
              0.1111111111111111,
              "#46039f"
             ],
             [
              0.2222222222222222,
              "#7201a8"
             ],
             [
              0.3333333333333333,
              "#9c179e"
             ],
             [
              0.4444444444444444,
              "#bd3786"
             ],
             [
              0.5555555555555556,
              "#d8576b"
             ],
             [
              0.6666666666666666,
              "#ed7953"
             ],
             [
              0.7777777777777778,
              "#fb9f3a"
             ],
             [
              0.8888888888888888,
              "#fdca26"
             ],
             [
              1,
              "#f0f921"
             ]
            ],
            "type": "contour"
           }
          ],
          "contourcarpet": [
           {
            "colorbar": {
             "outlinewidth": 0,
             "ticks": ""
            },
            "type": "contourcarpet"
           }
          ],
          "heatmap": [
           {
            "colorbar": {
             "outlinewidth": 0,
             "ticks": ""
            },
            "colorscale": [
             [
              0,
              "#0d0887"
             ],
             [
              0.1111111111111111,
              "#46039f"
             ],
             [
              0.2222222222222222,
              "#7201a8"
             ],
             [
              0.3333333333333333,
              "#9c179e"
             ],
             [
              0.4444444444444444,
              "#bd3786"
             ],
             [
              0.5555555555555556,
              "#d8576b"
             ],
             [
              0.6666666666666666,
              "#ed7953"
             ],
             [
              0.7777777777777778,
              "#fb9f3a"
             ],
             [
              0.8888888888888888,
              "#fdca26"
             ],
             [
              1,
              "#f0f921"
             ]
            ],
            "type": "heatmap"
           }
          ],
          "heatmapgl": [
           {
            "colorbar": {
             "outlinewidth": 0,
             "ticks": ""
            },
            "colorscale": [
             [
              0,
              "#0d0887"
             ],
             [
              0.1111111111111111,
              "#46039f"
             ],
             [
              0.2222222222222222,
              "#7201a8"
             ],
             [
              0.3333333333333333,
              "#9c179e"
             ],
             [
              0.4444444444444444,
              "#bd3786"
             ],
             [
              0.5555555555555556,
              "#d8576b"
             ],
             [
              0.6666666666666666,
              "#ed7953"
             ],
             [
              0.7777777777777778,
              "#fb9f3a"
             ],
             [
              0.8888888888888888,
              "#fdca26"
             ],
             [
              1,
              "#f0f921"
             ]
            ],
            "type": "heatmapgl"
           }
          ],
          "histogram": [
           {
            "marker": {
             "pattern": {
              "fillmode": "overlay",
              "size": 10,
              "solidity": 0.2
             }
            },
            "type": "histogram"
           }
          ],
          "histogram2d": [
           {
            "colorbar": {
             "outlinewidth": 0,
             "ticks": ""
            },
            "colorscale": [
             [
              0,
              "#0d0887"
             ],
             [
              0.1111111111111111,
              "#46039f"
             ],
             [
              0.2222222222222222,
              "#7201a8"
             ],
             [
              0.3333333333333333,
              "#9c179e"
             ],
             [
              0.4444444444444444,
              "#bd3786"
             ],
             [
              0.5555555555555556,
              "#d8576b"
             ],
             [
              0.6666666666666666,
              "#ed7953"
             ],
             [
              0.7777777777777778,
              "#fb9f3a"
             ],
             [
              0.8888888888888888,
              "#fdca26"
             ],
             [
              1,
              "#f0f921"
             ]
            ],
            "type": "histogram2d"
           }
          ],
          "histogram2dcontour": [
           {
            "colorbar": {
             "outlinewidth": 0,
             "ticks": ""
            },
            "colorscale": [
             [
              0,
              "#0d0887"
             ],
             [
              0.1111111111111111,
              "#46039f"
             ],
             [
              0.2222222222222222,
              "#7201a8"
             ],
             [
              0.3333333333333333,
              "#9c179e"
             ],
             [
              0.4444444444444444,
              "#bd3786"
             ],
             [
              0.5555555555555556,
              "#d8576b"
             ],
             [
              0.6666666666666666,
              "#ed7953"
             ],
             [
              0.7777777777777778,
              "#fb9f3a"
             ],
             [
              0.8888888888888888,
              "#fdca26"
             ],
             [
              1,
              "#f0f921"
             ]
            ],
            "type": "histogram2dcontour"
           }
          ],
          "mesh3d": [
           {
            "colorbar": {
             "outlinewidth": 0,
             "ticks": ""
            },
            "type": "mesh3d"
           }
          ],
          "parcoords": [
           {
            "line": {
             "colorbar": {
              "outlinewidth": 0,
              "ticks": ""
             }
            },
            "type": "parcoords"
           }
          ],
          "pie": [
           {
            "automargin": true,
            "type": "pie"
           }
          ],
          "scatter": [
           {
            "fillpattern": {
             "fillmode": "overlay",
             "size": 10,
             "solidity": 0.2
            },
            "type": "scatter"
           }
          ],
          "scatter3d": [
           {
            "line": {
             "colorbar": {
              "outlinewidth": 0,
              "ticks": ""
             }
            },
            "marker": {
             "colorbar": {
              "outlinewidth": 0,
              "ticks": ""
             }
            },
            "type": "scatter3d"
           }
          ],
          "scattercarpet": [
           {
            "marker": {
             "colorbar": {
              "outlinewidth": 0,
              "ticks": ""
             }
            },
            "type": "scattercarpet"
           }
          ],
          "scattergeo": [
           {
            "marker": {
             "colorbar": {
              "outlinewidth": 0,
              "ticks": ""
             }
            },
            "type": "scattergeo"
           }
          ],
          "scattergl": [
           {
            "marker": {
             "colorbar": {
              "outlinewidth": 0,
              "ticks": ""
             }
            },
            "type": "scattergl"
           }
          ],
          "scattermapbox": [
           {
            "marker": {
             "colorbar": {
              "outlinewidth": 0,
              "ticks": ""
             }
            },
            "type": "scattermapbox"
           }
          ],
          "scatterpolar": [
           {
            "marker": {
             "colorbar": {
              "outlinewidth": 0,
              "ticks": ""
             }
            },
            "type": "scatterpolar"
           }
          ],
          "scatterpolargl": [
           {
            "marker": {
             "colorbar": {
              "outlinewidth": 0,
              "ticks": ""
             }
            },
            "type": "scatterpolargl"
           }
          ],
          "scatterternary": [
           {
            "marker": {
             "colorbar": {
              "outlinewidth": 0,
              "ticks": ""
             }
            },
            "type": "scatterternary"
           }
          ],
          "surface": [
           {
            "colorbar": {
             "outlinewidth": 0,
             "ticks": ""
            },
            "colorscale": [
             [
              0,
              "#0d0887"
             ],
             [
              0.1111111111111111,
              "#46039f"
             ],
             [
              0.2222222222222222,
              "#7201a8"
             ],
             [
              0.3333333333333333,
              "#9c179e"
             ],
             [
              0.4444444444444444,
              "#bd3786"
             ],
             [
              0.5555555555555556,
              "#d8576b"
             ],
             [
              0.6666666666666666,
              "#ed7953"
             ],
             [
              0.7777777777777778,
              "#fb9f3a"
             ],
             [
              0.8888888888888888,
              "#fdca26"
             ],
             [
              1,
              "#f0f921"
             ]
            ],
            "type": "surface"
           }
          ],
          "table": [
           {
            "cells": {
             "fill": {
              "color": "#EBF0F8"
             },
             "line": {
              "color": "white"
             }
            },
            "header": {
             "fill": {
              "color": "#C8D4E3"
             },
             "line": {
              "color": "white"
             }
            },
            "type": "table"
           }
          ]
         },
         "layout": {
          "annotationdefaults": {
           "arrowcolor": "#2a3f5f",
           "arrowhead": 0,
           "arrowwidth": 1
          },
          "autotypenumbers": "strict",
          "coloraxis": {
           "colorbar": {
            "outlinewidth": 0,
            "ticks": ""
           }
          },
          "colorscale": {
           "diverging": [
            [
             0,
             "#8e0152"
            ],
            [
             0.1,
             "#c51b7d"
            ],
            [
             0.2,
             "#de77ae"
            ],
            [
             0.3,
             "#f1b6da"
            ],
            [
             0.4,
             "#fde0ef"
            ],
            [
             0.5,
             "#f7f7f7"
            ],
            [
             0.6,
             "#e6f5d0"
            ],
            [
             0.7,
             "#b8e186"
            ],
            [
             0.8,
             "#7fbc41"
            ],
            [
             0.9,
             "#4d9221"
            ],
            [
             1,
             "#276419"
            ]
           ],
           "sequential": [
            [
             0,
             "#0d0887"
            ],
            [
             0.1111111111111111,
             "#46039f"
            ],
            [
             0.2222222222222222,
             "#7201a8"
            ],
            [
             0.3333333333333333,
             "#9c179e"
            ],
            [
             0.4444444444444444,
             "#bd3786"
            ],
            [
             0.5555555555555556,
             "#d8576b"
            ],
            [
             0.6666666666666666,
             "#ed7953"
            ],
            [
             0.7777777777777778,
             "#fb9f3a"
            ],
            [
             0.8888888888888888,
             "#fdca26"
            ],
            [
             1,
             "#f0f921"
            ]
           ],
           "sequentialminus": [
            [
             0,
             "#0d0887"
            ],
            [
             0.1111111111111111,
             "#46039f"
            ],
            [
             0.2222222222222222,
             "#7201a8"
            ],
            [
             0.3333333333333333,
             "#9c179e"
            ],
            [
             0.4444444444444444,
             "#bd3786"
            ],
            [
             0.5555555555555556,
             "#d8576b"
            ],
            [
             0.6666666666666666,
             "#ed7953"
            ],
            [
             0.7777777777777778,
             "#fb9f3a"
            ],
            [
             0.8888888888888888,
             "#fdca26"
            ],
            [
             1,
             "#f0f921"
            ]
           ]
          },
          "colorway": [
           "#636efa",
           "#EF553B",
           "#00cc96",
           "#ab63fa",
           "#FFA15A",
           "#19d3f3",
           "#FF6692",
           "#B6E880",
           "#FF97FF",
           "#FECB52"
          ],
          "font": {
           "color": "#2a3f5f"
          },
          "geo": {
           "bgcolor": "white",
           "lakecolor": "white",
           "landcolor": "#E5ECF6",
           "showlakes": true,
           "showland": true,
           "subunitcolor": "white"
          },
          "hoverlabel": {
           "align": "left"
          },
          "hovermode": "closest",
          "mapbox": {
           "style": "light"
          },
          "paper_bgcolor": "white",
          "plot_bgcolor": "#E5ECF6",
          "polar": {
           "angularaxis": {
            "gridcolor": "white",
            "linecolor": "white",
            "ticks": ""
           },
           "bgcolor": "#E5ECF6",
           "radialaxis": {
            "gridcolor": "white",
            "linecolor": "white",
            "ticks": ""
           }
          },
          "scene": {
           "xaxis": {
            "backgroundcolor": "#E5ECF6",
            "gridcolor": "white",
            "gridwidth": 2,
            "linecolor": "white",
            "showbackground": true,
            "ticks": "",
            "zerolinecolor": "white"
           },
           "yaxis": {
            "backgroundcolor": "#E5ECF6",
            "gridcolor": "white",
            "gridwidth": 2,
            "linecolor": "white",
            "showbackground": true,
            "ticks": "",
            "zerolinecolor": "white"
           },
           "zaxis": {
            "backgroundcolor": "#E5ECF6",
            "gridcolor": "white",
            "gridwidth": 2,
            "linecolor": "white",
            "showbackground": true,
            "ticks": "",
            "zerolinecolor": "white"
           }
          },
          "shapedefaults": {
           "line": {
            "color": "#2a3f5f"
           }
          },
          "ternary": {
           "aaxis": {
            "gridcolor": "white",
            "linecolor": "white",
            "ticks": ""
           },
           "baxis": {
            "gridcolor": "white",
            "linecolor": "white",
            "ticks": ""
           },
           "bgcolor": "#E5ECF6",
           "caxis": {
            "gridcolor": "white",
            "linecolor": "white",
            "ticks": ""
           }
          },
          "title": {
           "x": 0.05
          },
          "xaxis": {
           "automargin": true,
           "gridcolor": "white",
           "linecolor": "white",
           "ticks": "",
           "title": {
            "standoff": 15
           },
           "zerolinecolor": "white",
           "zerolinewidth": 2
          },
          "yaxis": {
           "automargin": true,
           "gridcolor": "white",
           "linecolor": "white",
           "ticks": "",
           "title": {
            "standoff": 15
           },
           "zerolinecolor": "white",
           "zerolinewidth": 2
          }
         }
        },
        "title": {
         "text": "Auth"
        }
       }
      },
      "text/html": [
       "<div>                            <div id=\"bd7bd006-2035-4524-b782-0f54f72d952f\" class=\"plotly-graph-div\" style=\"height:525px; width:100%;\"></div>            <script type=\"text/javascript\">                require([\"plotly\"], function(Plotly) {                    window.PLOTLYENV=window.PLOTLYENV || {};                                    if (document.getElementById(\"bd7bd006-2035-4524-b782-0f54f72d952f\")) {                    Plotly.newPlot(                        \"bd7bd006-2035-4524-b782-0f54f72d952f\",                        [{\"labels\":[\"SPF\",\"DMARC\",\"Both\",\"Neither\"],\"name\":\"top10\",\"values\":[5,null,5,null],\"type\":\"pie\",\"domain\":{\"x\":[0.0,0.2888888888888889],\"y\":[0.575,1.0]},\"hole\":0.4,\"hoverinfo\":\"label+percent+name\"},{\"labels\":[\"SPF\",\"DMARC\",\"Both\",\"Neither\"],\"name\":\"top30\",\"values\":[14,1,15,null],\"type\":\"pie\",\"domain\":{\"x\":[0.35555555555555557,0.6444444444444445],\"y\":[0.575,1.0]},\"hole\":0.4,\"hoverinfo\":\"label+percent+name\"},{\"labels\":[\"SPF\",\"DMARC\",\"Both\",\"Neither\"],\"name\":\"top50\",\"values\":[26,2,21,1],\"type\":\"pie\",\"domain\":{\"x\":[0.7111111111111111,1.0],\"y\":[0.575,1.0]},\"hole\":0.4,\"hoverinfo\":\"label+percent+name\"},{\"labels\":[\"SPF\",\"DMARC\",\"Both\",\"Neither\"],\"name\":\"top100\",\"values\":[58,3,36,3],\"type\":\"pie\",\"domain\":{\"x\":[0.0,0.2888888888888889],\"y\":[0.0,0.425]},\"hole\":0.4,\"hoverinfo\":\"label+percent+name\"},{\"labels\":[\"SPF\",\"DMARC\",\"Both\",\"Neither\"],\"name\":\"top300\",\"values\":[168,3,101,28],\"type\":\"pie\",\"domain\":{\"x\":[0.35555555555555557,0.6444444444444445],\"y\":[0.0,0.425]},\"hole\":0.4,\"hoverinfo\":\"label+percent+name\"},{\"labels\":[\"SPF\",\"DMARC\",\"Both\",\"Neither\"],\"name\":\"300+\",\"values\":[240,13,147,146],\"type\":\"pie\",\"domain\":{\"x\":[0.7111111111111111,1.0],\"y\":[0.0,0.425]},\"hole\":0.4,\"hoverinfo\":\"label+percent+name\"}],                        {\"template\":{\"data\":{\"histogram2dcontour\":[{\"type\":\"histogram2dcontour\",\"colorbar\":{\"outlinewidth\":0,\"ticks\":\"\"},\"colorscale\":[[0.0,\"#0d0887\"],[0.1111111111111111,\"#46039f\"],[0.2222222222222222,\"#7201a8\"],[0.3333333333333333,\"#9c179e\"],[0.4444444444444444,\"#bd3786\"],[0.5555555555555556,\"#d8576b\"],[0.6666666666666666,\"#ed7953\"],[0.7777777777777778,\"#fb9f3a\"],[0.8888888888888888,\"#fdca26\"],[1.0,\"#f0f921\"]]}],\"choropleth\":[{\"type\":\"choropleth\",\"colorbar\":{\"outlinewidth\":0,\"ticks\":\"\"}}],\"histogram2d\":[{\"type\":\"histogram2d\",\"colorbar\":{\"outlinewidth\":0,\"ticks\":\"\"},\"colorscale\":[[0.0,\"#0d0887\"],[0.1111111111111111,\"#46039f\"],[0.2222222222222222,\"#7201a8\"],[0.3333333333333333,\"#9c179e\"],[0.4444444444444444,\"#bd3786\"],[0.5555555555555556,\"#d8576b\"],[0.6666666666666666,\"#ed7953\"],[0.7777777777777778,\"#fb9f3a\"],[0.8888888888888888,\"#fdca26\"],[1.0,\"#f0f921\"]]}],\"heatmap\":[{\"type\":\"heatmap\",\"colorbar\":{\"outlinewidth\":0,\"ticks\":\"\"},\"colorscale\":[[0.0,\"#0d0887\"],[0.1111111111111111,\"#46039f\"],[0.2222222222222222,\"#7201a8\"],[0.3333333333333333,\"#9c179e\"],[0.4444444444444444,\"#bd3786\"],[0.5555555555555556,\"#d8576b\"],[0.6666666666666666,\"#ed7953\"],[0.7777777777777778,\"#fb9f3a\"],[0.8888888888888888,\"#fdca26\"],[1.0,\"#f0f921\"]]}],\"heatmapgl\":[{\"type\":\"heatmapgl\",\"colorbar\":{\"outlinewidth\":0,\"ticks\":\"\"},\"colorscale\":[[0.0,\"#0d0887\"],[0.1111111111111111,\"#46039f\"],[0.2222222222222222,\"#7201a8\"],[0.3333333333333333,\"#9c179e\"],[0.4444444444444444,\"#bd3786\"],[0.5555555555555556,\"#d8576b\"],[0.6666666666666666,\"#ed7953\"],[0.7777777777777778,\"#fb9f3a\"],[0.8888888888888888,\"#fdca26\"],[1.0,\"#f0f921\"]]}],\"contourcarpet\":[{\"type\":\"contourcarpet\",\"colorbar\":{\"outlinewidth\":0,\"ticks\":\"\"}}],\"contour\":[{\"type\":\"contour\",\"colorbar\":{\"outlinewidth\":0,\"ticks\":\"\"},\"colorscale\":[[0.0,\"#0d0887\"],[0.1111111111111111,\"#46039f\"],[0.2222222222222222,\"#7201a8\"],[0.3333333333333333,\"#9c179e\"],[0.4444444444444444,\"#bd3786\"],[0.5555555555555556,\"#d8576b\"],[0.6666666666666666,\"#ed7953\"],[0.7777777777777778,\"#fb9f3a\"],[0.8888888888888888,\"#fdca26\"],[1.0,\"#f0f921\"]]}],\"surface\":[{\"type\":\"surface\",\"colorbar\":{\"outlinewidth\":0,\"ticks\":\"\"},\"colorscale\":[[0.0,\"#0d0887\"],[0.1111111111111111,\"#46039f\"],[0.2222222222222222,\"#7201a8\"],[0.3333333333333333,\"#9c179e\"],[0.4444444444444444,\"#bd3786\"],[0.5555555555555556,\"#d8576b\"],[0.6666666666666666,\"#ed7953\"],[0.7777777777777778,\"#fb9f3a\"],[0.8888888888888888,\"#fdca26\"],[1.0,\"#f0f921\"]]}],\"mesh3d\":[{\"type\":\"mesh3d\",\"colorbar\":{\"outlinewidth\":0,\"ticks\":\"\"}}],\"scatter\":[{\"fillpattern\":{\"fillmode\":\"overlay\",\"size\":10,\"solidity\":0.2},\"type\":\"scatter\"}],\"parcoords\":[{\"type\":\"parcoords\",\"line\":{\"colorbar\":{\"outlinewidth\":0,\"ticks\":\"\"}}}],\"scatterpolargl\":[{\"type\":\"scatterpolargl\",\"marker\":{\"colorbar\":{\"outlinewidth\":0,\"ticks\":\"\"}}}],\"bar\":[{\"error_x\":{\"color\":\"#2a3f5f\"},\"error_y\":{\"color\":\"#2a3f5f\"},\"marker\":{\"line\":{\"color\":\"#E5ECF6\",\"width\":0.5},\"pattern\":{\"fillmode\":\"overlay\",\"size\":10,\"solidity\":0.2}},\"type\":\"bar\"}],\"scattergeo\":[{\"type\":\"scattergeo\",\"marker\":{\"colorbar\":{\"outlinewidth\":0,\"ticks\":\"\"}}}],\"scatterpolar\":[{\"type\":\"scatterpolar\",\"marker\":{\"colorbar\":{\"outlinewidth\":0,\"ticks\":\"\"}}}],\"histogram\":[{\"marker\":{\"pattern\":{\"fillmode\":\"overlay\",\"size\":10,\"solidity\":0.2}},\"type\":\"histogram\"}],\"scattergl\":[{\"type\":\"scattergl\",\"marker\":{\"colorbar\":{\"outlinewidth\":0,\"ticks\":\"\"}}}],\"scatter3d\":[{\"type\":\"scatter3d\",\"line\":{\"colorbar\":{\"outlinewidth\":0,\"ticks\":\"\"}},\"marker\":{\"colorbar\":{\"outlinewidth\":0,\"ticks\":\"\"}}}],\"scattermapbox\":[{\"type\":\"scattermapbox\",\"marker\":{\"colorbar\":{\"outlinewidth\":0,\"ticks\":\"\"}}}],\"scatterternary\":[{\"type\":\"scatterternary\",\"marker\":{\"colorbar\":{\"outlinewidth\":0,\"ticks\":\"\"}}}],\"scattercarpet\":[{\"type\":\"scattercarpet\",\"marker\":{\"colorbar\":{\"outlinewidth\":0,\"ticks\":\"\"}}}],\"carpet\":[{\"aaxis\":{\"endlinecolor\":\"#2a3f5f\",\"gridcolor\":\"white\",\"linecolor\":\"white\",\"minorgridcolor\":\"white\",\"startlinecolor\":\"#2a3f5f\"},\"baxis\":{\"endlinecolor\":\"#2a3f5f\",\"gridcolor\":\"white\",\"linecolor\":\"white\",\"minorgridcolor\":\"white\",\"startlinecolor\":\"#2a3f5f\"},\"type\":\"carpet\"}],\"table\":[{\"cells\":{\"fill\":{\"color\":\"#EBF0F8\"},\"line\":{\"color\":\"white\"}},\"header\":{\"fill\":{\"color\":\"#C8D4E3\"},\"line\":{\"color\":\"white\"}},\"type\":\"table\"}],\"barpolar\":[{\"marker\":{\"line\":{\"color\":\"#E5ECF6\",\"width\":0.5},\"pattern\":{\"fillmode\":\"overlay\",\"size\":10,\"solidity\":0.2}},\"type\":\"barpolar\"}],\"pie\":[{\"automargin\":true,\"type\":\"pie\"}]},\"layout\":{\"autotypenumbers\":\"strict\",\"colorway\":[\"#636efa\",\"#EF553B\",\"#00cc96\",\"#ab63fa\",\"#FFA15A\",\"#19d3f3\",\"#FF6692\",\"#B6E880\",\"#FF97FF\",\"#FECB52\"],\"font\":{\"color\":\"#2a3f5f\"},\"hovermode\":\"closest\",\"hoverlabel\":{\"align\":\"left\"},\"paper_bgcolor\":\"white\",\"plot_bgcolor\":\"#E5ECF6\",\"polar\":{\"bgcolor\":\"#E5ECF6\",\"angularaxis\":{\"gridcolor\":\"white\",\"linecolor\":\"white\",\"ticks\":\"\"},\"radialaxis\":{\"gridcolor\":\"white\",\"linecolor\":\"white\",\"ticks\":\"\"}},\"ternary\":{\"bgcolor\":\"#E5ECF6\",\"aaxis\":{\"gridcolor\":\"white\",\"linecolor\":\"white\",\"ticks\":\"\"},\"baxis\":{\"gridcolor\":\"white\",\"linecolor\":\"white\",\"ticks\":\"\"},\"caxis\":{\"gridcolor\":\"white\",\"linecolor\":\"white\",\"ticks\":\"\"}},\"coloraxis\":{\"colorbar\":{\"outlinewidth\":0,\"ticks\":\"\"}},\"colorscale\":{\"sequential\":[[0.0,\"#0d0887\"],[0.1111111111111111,\"#46039f\"],[0.2222222222222222,\"#7201a8\"],[0.3333333333333333,\"#9c179e\"],[0.4444444444444444,\"#bd3786\"],[0.5555555555555556,\"#d8576b\"],[0.6666666666666666,\"#ed7953\"],[0.7777777777777778,\"#fb9f3a\"],[0.8888888888888888,\"#fdca26\"],[1.0,\"#f0f921\"]],\"sequentialminus\":[[0.0,\"#0d0887\"],[0.1111111111111111,\"#46039f\"],[0.2222222222222222,\"#7201a8\"],[0.3333333333333333,\"#9c179e\"],[0.4444444444444444,\"#bd3786\"],[0.5555555555555556,\"#d8576b\"],[0.6666666666666666,\"#ed7953\"],[0.7777777777777778,\"#fb9f3a\"],[0.8888888888888888,\"#fdca26\"],[1.0,\"#f0f921\"]],\"diverging\":[[0,\"#8e0152\"],[0.1,\"#c51b7d\"],[0.2,\"#de77ae\"],[0.3,\"#f1b6da\"],[0.4,\"#fde0ef\"],[0.5,\"#f7f7f7\"],[0.6,\"#e6f5d0\"],[0.7,\"#b8e186\"],[0.8,\"#7fbc41\"],[0.9,\"#4d9221\"],[1,\"#276419\"]]},\"xaxis\":{\"gridcolor\":\"white\",\"linecolor\":\"white\",\"ticks\":\"\",\"title\":{\"standoff\":15},\"zerolinecolor\":\"white\",\"automargin\":true,\"zerolinewidth\":2},\"yaxis\":{\"gridcolor\":\"white\",\"linecolor\":\"white\",\"ticks\":\"\",\"title\":{\"standoff\":15},\"zerolinecolor\":\"white\",\"automargin\":true,\"zerolinewidth\":2},\"scene\":{\"xaxis\":{\"backgroundcolor\":\"#E5ECF6\",\"gridcolor\":\"white\",\"linecolor\":\"white\",\"showbackground\":true,\"ticks\":\"\",\"zerolinecolor\":\"white\",\"gridwidth\":2},\"yaxis\":{\"backgroundcolor\":\"#E5ECF6\",\"gridcolor\":\"white\",\"linecolor\":\"white\",\"showbackground\":true,\"ticks\":\"\",\"zerolinecolor\":\"white\",\"gridwidth\":2},\"zaxis\":{\"backgroundcolor\":\"#E5ECF6\",\"gridcolor\":\"white\",\"linecolor\":\"white\",\"showbackground\":true,\"ticks\":\"\",\"zerolinecolor\":\"white\",\"gridwidth\":2}},\"shapedefaults\":{\"line\":{\"color\":\"#2a3f5f\"}},\"annotationdefaults\":{\"arrowcolor\":\"#2a3f5f\",\"arrowhead\":0,\"arrowwidth\":1},\"geo\":{\"bgcolor\":\"white\",\"landcolor\":\"#E5ECF6\",\"subunitcolor\":\"white\",\"showland\":true,\"showlakes\":true,\"lakecolor\":\"white\"},\"title\":{\"x\":0.05},\"mapbox\":{\"style\":\"light\"}}},\"title\":{\"text\":\"Auth\"},\"annotations\":[{\"showarrow\":false,\"text\":\"top10\",\"x\":0.115,\"y\":0.825,\"font\":{\"size\":15}},{\"showarrow\":false,\"text\":\"top30\",\"x\":0.5,\"y\":0.825,\"font\":{\"size\":15}},{\"showarrow\":false,\"text\":\"top50\",\"x\":0.89,\"y\":0.825,\"font\":{\"size\":15}},{\"showarrow\":false,\"text\":\"top100\",\"x\":0.11,\"y\":0.185,\"font\":{\"size\":15}},{\"showarrow\":false,\"text\":\"top300\",\"x\":0.5,\"y\":0.185,\"font\":{\"size\":15}},{\"showarrow\":false,\"text\":\"300+\",\"x\":0.885,\"y\":0.185,\"font\":{\"size\":15}}]},                        {\"responsive\": true}                    ).then(function(){\n",
       "                            \n",
       "var gd = document.getElementById('bd7bd006-2035-4524-b782-0f54f72d952f');\n",
       "var x = new MutationObserver(function (mutations, observer) {{\n",
       "        var display = window.getComputedStyle(gd).display;\n",
       "        if (!display || display === 'none') {{\n",
       "            console.log([gd, 'removed!']);\n",
       "            Plotly.purge(gd);\n",
       "            observer.disconnect();\n",
       "        }}\n",
       "}});\n",
       "\n",
       "// Listen for the removal of the full notebook cells\n",
       "var notebookContainer = gd.closest('#notebook-container');\n",
       "if (notebookContainer) {{\n",
       "    x.observe(notebookContainer, {childList: true});\n",
       "}}\n",
       "\n",
       "// Listen for the clearing of the current output cell\n",
       "var outputEl = gd.closest('.output');\n",
       "if (outputEl) {{\n",
       "    x.observe(outputEl, {childList: true});\n",
       "}}\n",
       "\n",
       "                        })                };                });            </script>        </div>"
      ]
     },
     "metadata": {},
     "output_type": "display_data"
    }
   ],
   "source": [
    "df_sev1 = dict(df[0:10].groupby(['auth']).count()['University Name'])\n",
    "df_sev2 = dict(df[0:30].groupby(['auth']).count()['University Name'])\n",
    "df_sev3 = dict(df[0:50].groupby(['auth']).count()['University Name'])\n",
    "df_sev4 = dict(df[0:100].groupby(['auth']).count()['University Name'])\n",
    "df_sev5 = dict(df[0:300].groupby(['auth']).count()['University Name'])\n",
    "df_sev6 = dict(df[301:len(df)].groupby(['auth']).count()['University Name'])\n",
    "\n",
    "labels = [\"SPF\", \"DMARC\", \"Both\", \"Neither\"]\n",
    "\n",
    "# Create subplots: use 'domain' type for Pie subplot\n",
    "fig = make_subplots(rows=2, cols=3, specs=[[{'type':'domain'}, {'type':'domain'}, {'type':'domain'}],\n",
    "                                          [{'type':'domain'}, {'type':'domain'}, {'type':'domain'}]])\n",
    "\n",
    "fig.add_trace(go.Pie(labels=labels, values=[df_sev1.get(\"SPF\"), df_sev1.get(\"DMARC\"), \n",
    "                                            df_sev1.get(\"both\"), df_sev1.get(\"Neither\")], name=\"top10\"), 1, 1)\n",
    "fig.add_trace(go.Pie(labels=labels, values=[df_sev2.get(\"SPF\"), df_sev2.get(\"DMARC\"), \n",
    "                                            df_sev2.get(\"both\"), df_sev2.get(\"Neither\")], name=\"top30\"), 1, 2)\n",
    "fig.add_trace(go.Pie(labels=labels, values=[df_sev3.get(\"SPF\"), df_sev3.get(\"DMARC\"), \n",
    "                                            df_sev3.get(\"both\"), df_sev3.get(\"Neither\")], name=\"top50\"), 1, 3)\n",
    "fig.add_trace(go.Pie(labels=labels, values=[df_sev4.get(\"SPF\"), df_sev4.get(\"DMARC\"), \n",
    "                                            df_sev4.get(\"both\"), df_sev4.get(\"Neither\")], name=\"top100\"), 2, 1)\n",
    "fig.add_trace(go.Pie(labels=labels, values=[df_sev5.get(\"SPF\"), df_sev5.get(\"DMARC\"), \n",
    "                                            df_sev5.get(\"both\"), df_sev5.get(\"Neither\")], name=\"top300\"), 2, 2)\n",
    "fig.add_trace(go.Pie(labels=labels, values=[df_sev6.get(\"SPF\"), df_sev6.get(\"DMARC\"), \n",
    "                                            df_sev6.get(\"both\"), df_sev6.get(\"Neither\")], name=\"300+\"), 2, 3)\n",
    "fig.update_traces(hole=.4, hoverinfo=\"label+percent+name\")\n",
    "fig.update_layout(\n",
    "    title_text=\"Auth\",\n",
    "    # Add annotations in the center of the donut pies.\n",
    "    annotations=[dict(text='top10', x=0.115, y=0.825, font_size=15, showarrow=False),\n",
    "                 dict(text='top30', x=0.5, y=0.825, font_size=15, showarrow=False),\n",
    "                 dict(text='top50', x=0.89, y=0.825, font_size=15, showarrow=False),\n",
    "                 dict(text='top100', x=0.11, y=0.185, font_size=15, showarrow=False),\n",
    "                 dict(text='top300', x=0.5, y=0.185, font_size=15, showarrow=False),\n",
    "                 dict(text='300+', x=0.885, y=0.185, font_size=15, showarrow=False),])\n",
    "fig.show()"
   ]
  },
  {
   "cell_type": "code",
   "execution_count": null,
   "id": "833801fe",
   "metadata": {},
   "outputs": [],
   "source": []
  }
 ],
 "metadata": {
  "kernelspec": {
   "display_name": "Python 3",
   "language": "python",
   "name": "python3"
  },
  "language_info": {
   "codemirror_mode": {
    "name": "ipython",
    "version": 3
   },
   "file_extension": ".py",
   "mimetype": "text/x-python",
   "name": "python",
   "nbconvert_exporter": "python",
   "pygments_lexer": "ipython3",
   "version": "3.8.8"
  }
 },
 "nbformat": 4,
 "nbformat_minor": 5
}
